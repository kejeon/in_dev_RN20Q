{
  "cells": [
    {
      "cell_type": "markdown",
      "metadata": {
        "id": "view-in-github",
        "colab_type": "text"
      },
      "source": [
        "<a href=\"https://colab.research.google.com/github/kejeon/in_dev_RN20Q/blob/main/train_resent20_q_without_KD_2.ipynb\" target=\"_parent\"><img src=\"https://colab.research.google.com/assets/colab-badge.svg\" alt=\"Open In Colab\"/></a>"
      ]
    },
    {
      "cell_type": "code",
      "execution_count": 12,
      "metadata": {
        "id": "3O1ELDof2Tlr"
      },
      "outputs": [],
      "source": [
        "import sys\n",
        "IN_COLAB = 'google.colab' in sys.modules\n",
        "IN_LOCAL = not IN_COLAB\n",
        "USE_GITHUB = True\n",
        "USE_DRIVE = False\n",
        "device = 'cuda'\n",
        "\n",
        "assert not (USE_GITHUB and USE_DRIVE)"
      ]
    },
    {
      "cell_type": "code",
      "execution_count": 13,
      "metadata": {
        "colab": {
          "base_uri": "https://localhost:8080/"
        },
        "id": "9Du6bTmkysNv",
        "outputId": "c00a7b8d-e161-4187-98d0-c46bdcdb8ec4"
      },
      "outputs": [
        {
          "output_type": "stream",
          "name": "stdout",
          "text": [
            "Cloning into 'in_dev_RN20Q'...\n",
            "remote: Enumerating objects: 78, done.\u001b[K\n",
            "remote: Counting objects: 100% (78/78), done.\u001b[K\n",
            "remote: Compressing objects: 100% (52/52), done.\u001b[K\n",
            "remote: Total 78 (delta 31), reused 62 (delta 21), pack-reused 0\u001b[K\n",
            "Unpacking objects: 100% (78/78), 2.03 MiB | 3.60 MiB/s, done.\n"
          ]
        },
        {
          "output_type": "stream",
          "name": "stderr",
          "text": [
            "\u001b[34m\u001b[1mwandb\u001b[0m: Currently logged in as: \u001b[33mjke1994\u001b[0m. Use \u001b[1m`wandb login --relogin`\u001b[0m to force relogin\n",
            "\u001b[34m\u001b[1mwandb\u001b[0m: \u001b[33mWARNING\u001b[0m If you're specifying your api key in code, ensure this code is not shared publicly.\n",
            "\u001b[34m\u001b[1mwandb\u001b[0m: \u001b[33mWARNING\u001b[0m Consider setting the WANDB_API_KEY environment variable, or running `wandb login` from the command line.\n",
            "\u001b[34m\u001b[1mwandb\u001b[0m: Appending key for api.wandb.ai to your netrc file: /root/.netrc\n"
          ]
        },
        {
          "output_type": "stream",
          "name": "stdout",
          "text": [
            "/content/in_dev_RN20Q\n"
          ]
        },
        {
          "output_type": "execute_result",
          "data": {
            "text/plain": [
              "True"
            ]
          },
          "metadata": {},
          "execution_count": 13
        }
      ],
      "source": [
        "if IN_COLAB:\n",
        "  !pip install wandb -qU\n",
        "  from google.colab import runtime\n",
        "  if USE_GITHUB:\n",
        "    !git clone https://github.com/kejeon/in_dev_RN20Q.git\n",
        "    %cd '/content/in_dev_RN20Q'\n",
        "  elif USE_DRIVE:\n",
        "    from google.colab import drive\n",
        "    drive.mount('/content/drive')\n",
        "    %cd '/content/drive/MyDrive/GitHub/in_dev_RN20Q'\n",
        "\n",
        "import wandb\n",
        "import torch\n",
        "from model.resnet4c10q import ResNet20_Q\n",
        "from model.resnet4c10 import resnet20\n",
        "from mylib.ResNetTrainer import ResNetTrainer\n",
        "\n",
        "wandb.login(key='e0c11d3ff2bee4c8775ba05863038fdac671c043')"
      ]
    },
    {
      "cell_type": "code",
      "execution_count": null,
      "metadata": {
        "colab": {
          "base_uri": "https://localhost:8080/",
          "height": 1000
        },
        "id": "tkgGnl8O-O-Y",
        "outputId": "30ed0048-526a-48eb-8fab-e68ead8e5d05"
      },
      "outputs": [
        {
          "output_type": "display_data",
          "data": {
            "text/plain": [
              "<IPython.core.display.HTML object>"
            ],
            "text/html": [
              "Tracking run with wandb version 0.15.5"
            ]
          },
          "metadata": {}
        },
        {
          "output_type": "display_data",
          "data": {
            "text/plain": [
              "<IPython.core.display.HTML object>"
            ],
            "text/html": [
              "Run data is saved locally in <code>/content/in_dev_RN20Q/wandb/run-20230718_023550-tp5ay59c</code>"
            ]
          },
          "metadata": {}
        },
        {
          "output_type": "display_data",
          "data": {
            "text/plain": [
              "<IPython.core.display.HTML object>"
            ],
            "text/html": [
              "Syncing run <strong><a href='https://wandb.ai/jke1994/ResNet20_Q/runs/tp5ay59c' target=\"_blank\">helpful-plant-26</a></strong> to <a href='https://wandb.ai/jke1994/ResNet20_Q' target=\"_blank\">Weights & Biases</a> (<a href='https://wandb.me/run' target=\"_blank\">docs</a>)<br/>"
            ]
          },
          "metadata": {}
        },
        {
          "output_type": "display_data",
          "data": {
            "text/plain": [
              "<IPython.core.display.HTML object>"
            ],
            "text/html": [
              " View project at <a href='https://wandb.ai/jke1994/ResNet20_Q' target=\"_blank\">https://wandb.ai/jke1994/ResNet20_Q</a>"
            ]
          },
          "metadata": {}
        },
        {
          "output_type": "display_data",
          "data": {
            "text/plain": [
              "<IPython.core.display.HTML object>"
            ],
            "text/html": [
              " View run at <a href='https://wandb.ai/jke1994/ResNet20_Q/runs/tp5ay59c' target=\"_blank\">https://wandb.ai/jke1994/ResNet20_Q/runs/tp5ay59c</a>"
            ]
          },
          "metadata": {}
        },
        {
          "output_type": "stream",
          "name": "stdout",
          "text": [
            "Downloading https://www.cs.toronto.edu/~kriz/cifar-10-python.tar.gz to ./data/cifar-10-python.tar.gz\n"
          ]
        },
        {
          "output_type": "stream",
          "name": "stderr",
          "text": [
            "100%|██████████| 170498071/170498071 [00:06<00:00, 27510422.14it/s]\n"
          ]
        },
        {
          "output_type": "stream",
          "name": "stdout",
          "text": [
            "Extracting ./data/cifar-10-python.tar.gz to ./data\n",
            "Files already downloaded and verified\n",
            "\n",
            "Epoch: 0\n"
          ]
        },
        {
          "output_type": "stream",
          "name": "stderr",
          "text": [
            "Epoch 0: 100%|██████████| 391/391 [00:23<00:00, 16.40it/s, train_acc=0.203, xentropy=2.112]\n",
            "/usr/local/lib/python3.10/dist-packages/torch/optim/lr_scheduler.py:814: UserWarning: To get the last learning rate computed by the scheduler, please use `get_last_lr()`.\n",
            "  warnings.warn(\"To get the last learning rate computed by the scheduler, \"\n"
          ]
        },
        {
          "output_type": "stream",
          "name": "stdout",
          "text": [
            "test_acc: 0.258\n",
            "Saving..\n",
            "\n",
            "Epoch: 1\n"
          ]
        },
        {
          "output_type": "stream",
          "name": "stderr",
          "text": [
            "Epoch 1: 100%|██████████| 391/391 [00:15<00:00, 25.86it/s, train_acc=0.248, xentropy=1.973]\n"
          ]
        },
        {
          "output_type": "stream",
          "name": "stdout",
          "text": [
            "test_acc: 0.261\n",
            "Saving..\n",
            "\n",
            "Epoch: 2\n"
          ]
        },
        {
          "output_type": "stream",
          "name": "stderr",
          "text": [
            "Epoch 2: 100%|██████████| 391/391 [00:14<00:00, 26.07it/s, train_acc=0.286, xentropy=1.885]\n"
          ]
        },
        {
          "output_type": "stream",
          "name": "stdout",
          "text": [
            "test_acc: 0.306\n",
            "Saving..\n",
            "\n",
            "Epoch: 3\n"
          ]
        },
        {
          "output_type": "stream",
          "name": "stderr",
          "text": [
            "Epoch 3: 100%|██████████| 391/391 [00:15<00:00, 25.77it/s, train_acc=0.307, xentropy=1.822]\n"
          ]
        },
        {
          "output_type": "stream",
          "name": "stdout",
          "text": [
            "test_acc: 0.320\n",
            "Saving..\n",
            "\n",
            "Epoch: 4\n"
          ]
        },
        {
          "output_type": "stream",
          "name": "stderr",
          "text": [
            "Epoch 4: 100%|██████████| 391/391 [00:15<00:00, 25.78it/s, train_acc=0.331, xentropy=1.767]\n"
          ]
        },
        {
          "output_type": "stream",
          "name": "stdout",
          "text": [
            "test_acc: 0.343\n",
            "Saving..\n",
            "\n",
            "Epoch: 5\n"
          ]
        },
        {
          "output_type": "stream",
          "name": "stderr",
          "text": [
            "Epoch 5: 100%|██████████| 391/391 [00:15<00:00, 25.74it/s, train_acc=0.354, xentropy=1.711]\n"
          ]
        },
        {
          "output_type": "stream",
          "name": "stdout",
          "text": [
            "test_acc: 0.294\n",
            "\n",
            "Epoch: 6\n"
          ]
        },
        {
          "output_type": "stream",
          "name": "stderr",
          "text": [
            "Epoch 6: 100%|██████████| 391/391 [00:15<00:00, 25.99it/s, train_acc=0.371, xentropy=1.671]\n"
          ]
        },
        {
          "output_type": "stream",
          "name": "stdout",
          "text": [
            "test_acc: 0.377\n",
            "Saving..\n",
            "\n",
            "Epoch: 7\n"
          ]
        },
        {
          "output_type": "stream",
          "name": "stderr",
          "text": [
            "Epoch 7: 100%|██████████| 391/391 [00:15<00:00, 25.48it/s, train_acc=0.391, xentropy=1.630]\n"
          ]
        },
        {
          "output_type": "stream",
          "name": "stdout",
          "text": [
            "test_acc: 0.393\n",
            "Saving..\n",
            "\n",
            "Epoch: 8\n"
          ]
        },
        {
          "output_type": "stream",
          "name": "stderr",
          "text": [
            "Epoch 8: 100%|██████████| 391/391 [00:14<00:00, 26.11it/s, train_acc=0.404, xentropy=1.594]\n"
          ]
        },
        {
          "output_type": "stream",
          "name": "stdout",
          "text": [
            "test_acc: 0.372\n",
            "\n",
            "Epoch: 9\n"
          ]
        },
        {
          "output_type": "stream",
          "name": "stderr",
          "text": [
            "Epoch 9: 100%|██████████| 391/391 [00:15<00:00, 25.82it/s, train_acc=0.417, xentropy=1.568]\n"
          ]
        },
        {
          "output_type": "stream",
          "name": "stdout",
          "text": [
            "test_acc: 0.398\n",
            "Saving..\n",
            "\n",
            "Epoch: 10\n"
          ]
        },
        {
          "output_type": "stream",
          "name": "stderr",
          "text": [
            "Epoch 10: 100%|██████████| 391/391 [00:15<00:00, 25.45it/s, train_acc=0.431, xentropy=1.532]\n"
          ]
        },
        {
          "output_type": "stream",
          "name": "stdout",
          "text": [
            "test_acc: 0.419\n",
            "Saving..\n",
            "\n",
            "Epoch: 11\n"
          ]
        },
        {
          "output_type": "stream",
          "name": "stderr",
          "text": [
            "Epoch 11: 100%|██████████| 391/391 [00:15<00:00, 26.06it/s, train_acc=0.441, xentropy=1.513]\n"
          ]
        },
        {
          "output_type": "stream",
          "name": "stdout",
          "text": [
            "test_acc: 0.424\n",
            "Saving..\n",
            "\n",
            "Epoch: 12\n"
          ]
        },
        {
          "output_type": "stream",
          "name": "stderr",
          "text": [
            "Epoch 12: 100%|██████████| 391/391 [00:15<00:00, 26.06it/s, train_acc=0.449, xentropy=1.494]\n"
          ]
        },
        {
          "output_type": "stream",
          "name": "stdout",
          "text": [
            "test_acc: 0.239\n",
            "\n",
            "Epoch: 13\n"
          ]
        },
        {
          "output_type": "stream",
          "name": "stderr",
          "text": [
            "Epoch 13: 100%|██████████| 391/391 [00:16<00:00, 24.21it/s, train_acc=0.456, xentropy=1.475]\n"
          ]
        },
        {
          "output_type": "stream",
          "name": "stdout",
          "text": [
            "test_acc: 0.469\n",
            "Saving..\n",
            "\n",
            "Epoch: 14\n"
          ]
        },
        {
          "output_type": "stream",
          "name": "stderr",
          "text": [
            "Epoch 14: 100%|██████████| 391/391 [00:16<00:00, 24.27it/s, train_acc=0.465, xentropy=1.451]\n"
          ]
        },
        {
          "output_type": "stream",
          "name": "stdout",
          "text": [
            "test_acc: 0.376\n",
            "\n",
            "Epoch: 15\n"
          ]
        },
        {
          "output_type": "stream",
          "name": "stderr",
          "text": [
            "Epoch 15: 100%|██████████| 391/391 [00:16<00:00, 24.32it/s, train_acc=0.476, xentropy=1.429]\n"
          ]
        },
        {
          "output_type": "stream",
          "name": "stdout",
          "text": [
            "test_acc: 0.371\n",
            "\n",
            "Epoch: 16\n"
          ]
        },
        {
          "output_type": "stream",
          "name": "stderr",
          "text": [
            "Epoch 16: 100%|██████████| 391/391 [00:15<00:00, 25.04it/s, train_acc=0.483, xentropy=1.413]\n"
          ]
        },
        {
          "output_type": "stream",
          "name": "stdout",
          "text": [
            "test_acc: 0.415\n",
            "\n",
            "Epoch: 17\n"
          ]
        },
        {
          "output_type": "stream",
          "name": "stderr",
          "text": [
            "Epoch 17: 100%|██████████| 391/391 [00:14<00:00, 26.09it/s, train_acc=0.489, xentropy=1.393]\n"
          ]
        },
        {
          "output_type": "stream",
          "name": "stdout",
          "text": [
            "test_acc: 0.447\n",
            "\n",
            "Epoch: 18\n"
          ]
        },
        {
          "output_type": "stream",
          "name": "stderr",
          "text": [
            "Epoch 18: 100%|██████████| 391/391 [00:15<00:00, 25.31it/s, train_acc=0.498, xentropy=1.378]\n"
          ]
        },
        {
          "output_type": "stream",
          "name": "stdout",
          "text": [
            "test_acc: 0.431\n",
            "\n",
            "Epoch: 19\n"
          ]
        },
        {
          "output_type": "stream",
          "name": "stderr",
          "text": [
            "Epoch 19: 100%|██████████| 391/391 [00:15<00:00, 25.15it/s, train_acc=0.504, xentropy=1.360]\n"
          ]
        },
        {
          "output_type": "stream",
          "name": "stdout",
          "text": [
            "test_acc: 0.465\n",
            "\n",
            "Epoch: 20\n"
          ]
        },
        {
          "output_type": "stream",
          "name": "stderr",
          "text": [
            "Epoch 20: 100%|██████████| 391/391 [00:16<00:00, 23.51it/s, train_acc=0.511, xentropy=1.350]\n"
          ]
        },
        {
          "output_type": "stream",
          "name": "stdout",
          "text": [
            "test_acc: 0.417\n",
            "\n",
            "Epoch: 21\n"
          ]
        },
        {
          "output_type": "stream",
          "name": "stderr",
          "text": [
            "Epoch 21: 100%|██████████| 391/391 [00:16<00:00, 24.35it/s, train_acc=0.516, xentropy=1.329]\n"
          ]
        },
        {
          "output_type": "stream",
          "name": "stdout",
          "text": [
            "test_acc: 0.388\n",
            "\n",
            "Epoch: 22\n"
          ]
        },
        {
          "output_type": "stream",
          "name": "stderr",
          "text": [
            "Epoch 22: 100%|██████████| 391/391 [00:15<00:00, 24.91it/s, train_acc=0.527, xentropy=1.311]\n"
          ]
        },
        {
          "output_type": "stream",
          "name": "stdout",
          "text": [
            "test_acc: 0.518\n",
            "Saving..\n",
            "\n",
            "Epoch: 23\n"
          ]
        },
        {
          "output_type": "stream",
          "name": "stderr",
          "text": [
            "Epoch 23: 100%|██████████| 391/391 [00:15<00:00, 25.11it/s, train_acc=0.534, xentropy=1.288]\n"
          ]
        },
        {
          "output_type": "stream",
          "name": "stdout",
          "text": [
            "test_acc: 0.539\n",
            "Saving..\n",
            "\n",
            "Epoch: 24\n"
          ]
        },
        {
          "output_type": "stream",
          "name": "stderr",
          "text": [
            "Epoch 24: 100%|██████████| 391/391 [00:15<00:00, 25.18it/s, train_acc=0.536, xentropy=1.283]\n"
          ]
        },
        {
          "output_type": "stream",
          "name": "stdout",
          "text": [
            "test_acc: 0.459\n",
            "\n",
            "Epoch: 25\n"
          ]
        },
        {
          "output_type": "stream",
          "name": "stderr",
          "text": [
            "Epoch 25: 100%|██████████| 391/391 [00:16<00:00, 24.34it/s, train_acc=0.539, xentropy=1.270]\n"
          ]
        },
        {
          "output_type": "stream",
          "name": "stdout",
          "text": [
            "test_acc: 0.454\n",
            "\n",
            "Epoch: 26\n"
          ]
        },
        {
          "output_type": "stream",
          "name": "stderr",
          "text": [
            "Epoch 26: 100%|██████████| 391/391 [00:15<00:00, 25.18it/s, train_acc=0.549, xentropy=1.248]\n"
          ]
        }
      ],
      "source": [
        "lr = 0.02\n",
        "arch_tag = \"ResNet20Q_1bit\"\n",
        "batch_size = 128\n",
        "dataset = \"CIFAR10\"\n",
        "\n",
        "student_model = ResNet20_Q(a_bit=4, w_bit=1)\n",
        "\n",
        "run = wandb.init(\n",
        "    # set the wandb project where this run will be logged\n",
        "    project=\"ResNet20_Q\",\n",
        "\n",
        "    # track hyperparameters and run metadata\n",
        "    config={\n",
        "    \"learning_rate\": lr,\n",
        "    \"architecture\": arch_tag,\n",
        "    \"batch_size\": batch_size,\n",
        "    \"dataset\": dataset,\n",
        "    \"scheduler\": 'MultiStepLR',\n",
        "    \"style\": 'without_KD'\n",
        "    }\n",
        ")\n",
        "\n",
        "my_trainer = ResNetTrainer(dataset=dataset,\n",
        "                           arch_tag=arch_tag,\n",
        "                           model=student_model,\n",
        "                           device = device,\n",
        "                           batch_size=batch_size,\n",
        "                           lr=lr)\n",
        "\n",
        "my_trainer.train_script(200)\n",
        "\n",
        "wandb.finish()\n",
        "\n",
        "runtime.unassign()"
      ]
    },
    {
      "cell_type": "code",
      "execution_count": null,
      "metadata": {
        "id": "0Ytz-Jfv_m_A"
      },
      "outputs": [],
      "source": []
    }
  ],
  "metadata": {
    "accelerator": "GPU",
    "colab": {
      "gpuType": "V100",
      "machine_shape": "hm",
      "provenance": [],
      "include_colab_link": true
    },
    "kernelspec": {
      "display_name": "Python 3",
      "name": "python3"
    },
    "language_info": {
      "codemirror_mode": {
        "name": "ipython",
        "version": 3
      },
      "file_extension": ".py",
      "mimetype": "text/x-python",
      "name": "python",
      "nbconvert_exporter": "python",
      "pygments_lexer": "ipython3",
      "version": "3.8.17"
    }
  },
  "nbformat": 4,
  "nbformat_minor": 0
}