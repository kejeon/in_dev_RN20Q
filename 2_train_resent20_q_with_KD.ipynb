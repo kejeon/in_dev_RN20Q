{
  "cells": [
    {
      "cell_type": "code",
      "execution_count": 2,
      "metadata": {
        "id": "iMZa-9P8Uu0g"
      },
      "outputs": [],
      "source": [
        "import sys\n",
        "IN_COLAB = 'google.colab' in sys.modules\n",
        "IN_LOCAL = not IN_COLAB\n",
        "USE_GITHUB = True\n",
        "USE_DRIVE = False\n",
        "device = 'cuda'\n",
        "\n",
        "assert not (USE_GITHUB and USE_DRIVE)"
      ]
    },
    {
      "cell_type": "code",
      "execution_count": 3,
      "metadata": {
        "colab": {
          "base_uri": "https://localhost:8080/"
        },
        "id": "9Du6bTmkysNv",
        "outputId": "3bbad5fc-284c-4daf-94f8-7bbb5d3ac72b"
      },
      "outputs": [
        {
          "output_type": "stream",
          "name": "stdout",
          "text": [
            "fatal: destination path 'in_dev_RN20Q' already exists and is not an empty directory.\n",
            "/content/in_dev_RN20Q\n"
          ]
        },
        {
          "output_type": "stream",
          "name": "stderr",
          "text": [
            "\u001b[34m\u001b[1mwandb\u001b[0m: Currently logged in as: \u001b[33mjke1994\u001b[0m. Use \u001b[1m`wandb login --relogin`\u001b[0m to force relogin\n",
            "\u001b[34m\u001b[1mwandb\u001b[0m: \u001b[33mWARNING\u001b[0m If you're specifying your api key in code, ensure this code is not shared publicly.\n",
            "\u001b[34m\u001b[1mwandb\u001b[0m: \u001b[33mWARNING\u001b[0m Consider setting the WANDB_API_KEY environment variable, or running `wandb login` from the command line.\n",
            "\u001b[34m\u001b[1mwandb\u001b[0m: Appending key for api.wandb.ai to your netrc file: /root/.netrc\n"
          ]
        },
        {
          "output_type": "execute_result",
          "data": {
            "text/plain": [
              "True"
            ]
          },
          "metadata": {},
          "execution_count": 3
        }
      ],
      "source": [
        "if IN_COLAB:\n",
        "  !pip install wandb -qU\n",
        "  from google.colab import runtime\n",
        "  if USE_GITHUB:\n",
        "    !git clone https://github.com/kejeon/in_dev_RN20Q.git\n",
        "    %cd '/content/in_dev_RN20Q'\n",
        "  elif USE_DRIVE:\n",
        "    from google.colab import drive\n",
        "    drive.mount('/content/drive')\n",
        "    %cd '/content/drive/MyDrive/GitHub/in_dev_RN20Q'\n",
        "\n",
        "import wandb\n",
        "import torch\n",
        "from model.resnet4c10q import ResNet20_Q\n",
        "from model.resnet4c10 import resnet20\n",
        "from mylib.KDResNetTrainer import ResNetTrainer\n",
        "\n",
        "wandb.login(key='e0c11d3ff2bee4c8775ba05863038fdac671c043')"
      ]
    },
    {
      "cell_type": "code",
      "execution_count": 4,
      "metadata": {
        "colab": {
          "base_uri": "https://localhost:8080/"
        },
        "id": "MN9GxWv2Uu0k",
        "outputId": "a40b45a8-7d8b-49a9-aa53-144366c1199c"
      },
      "outputs": [
        {
          "output_type": "stream",
          "name": "stderr",
          "text": [
            "\u001b[34m\u001b[1mwandb\u001b[0m:   1 of 1 files downloaded.  \n"
          ]
        }
      ],
      "source": [
        "api = wandb.Api()\n",
        "artifact = api.artifact('jke1994/ResNet20/model:v179')\n",
        "artifact.download(root='./pretrained_model')\n",
        "state_dict = torch.load('./pretrained_model/ckpt.pth', map_location=torch.device(device))\n",
        "\n",
        "teacher_model = resnet20()\n",
        "\n",
        "try:\n",
        "  teacher_model.load_state_dict(state_dict['net'])\n",
        "except:\n",
        "  # if the model is wrapped in a module, update all keys in state_dict to remove module.\n",
        "  state_dict['net'] = {k.replace('module.', ''): v for k, v in state_dict['net'].items()}\n",
        "  teacher_model.load_state_dict(state_dict['net'])"
      ]
    },
    {
      "cell_type": "code",
      "execution_count": null,
      "metadata": {
        "colab": {
          "base_uri": "https://localhost:8080/",
          "height": 1000
        },
        "id": "tkgGnl8O-O-Y",
        "outputId": "ac9f4e3e-25e1-43dd-c92e-d96639187693"
      },
      "outputs": [
        {
          "output_type": "display_data",
          "data": {
            "text/plain": [
              "<IPython.core.display.HTML object>"
            ],
            "text/html": [
              "Tracking run with wandb version 0.15.5"
            ]
          },
          "metadata": {}
        },
        {
          "output_type": "display_data",
          "data": {
            "text/plain": [
              "<IPython.core.display.HTML object>"
            ],
            "text/html": [
              "Run data is saved locally in <code>/content/in_dev_RN20Q/wandb/run-20230718_045330-x3s7d9go</code>"
            ]
          },
          "metadata": {}
        },
        {
          "output_type": "display_data",
          "data": {
            "text/plain": [
              "<IPython.core.display.HTML object>"
            ],
            "text/html": [
              "Syncing run <strong><a href='https://wandb.ai/jke1994/ResNet20_Q_1bit/runs/x3s7d9go' target=\"_blank\">devout-dragon-3</a></strong> to <a href='https://wandb.ai/jke1994/ResNet20_Q_1bit' target=\"_blank\">Weights & Biases</a> (<a href='https://wandb.me/run' target=\"_blank\">docs</a>)<br/>"
            ]
          },
          "metadata": {}
        },
        {
          "output_type": "display_data",
          "data": {
            "text/plain": [
              "<IPython.core.display.HTML object>"
            ],
            "text/html": [
              " View project at <a href='https://wandb.ai/jke1994/ResNet20_Q_1bit' target=\"_blank\">https://wandb.ai/jke1994/ResNet20_Q_1bit</a>"
            ]
          },
          "metadata": {}
        },
        {
          "output_type": "display_data",
          "data": {
            "text/plain": [
              "<IPython.core.display.HTML object>"
            ],
            "text/html": [
              " View run at <a href='https://wandb.ai/jke1994/ResNet20_Q_1bit/runs/x3s7d9go' target=\"_blank\">https://wandb.ai/jke1994/ResNet20_Q_1bit/runs/x3s7d9go</a>"
            ]
          },
          "metadata": {}
        },
        {
          "output_type": "stream",
          "name": "stdout",
          "text": [
            "Files already downloaded and verified\n",
            "Files already downloaded and verified\n",
            "\n",
            "Epoch: 0\n"
          ]
        },
        {
          "output_type": "stream",
          "name": "stderr",
          "text": [
            "Epoch 0:   0%|          | 0/391 [00:00<?, ?it/s]/usr/local/lib/python3.10/dist-packages/torch/nn/functional.py:2919: UserWarning: reduction: 'mean' divides the total loss by both the batch size and the support size.'batchmean' divides only by the batch size, and aligns with the KL div math definition.'mean' will be changed to behave the same as 'batchmean' in the next major release.\n",
            "  warnings.warn(\n",
            "Epoch 0: 100%|██████████| 391/391 [00:24<00:00, 16.08it/s, train_acc=0.187, xentropy=1.489]\n",
            "/usr/local/lib/python3.10/dist-packages/torch/optim/lr_scheduler.py:437: UserWarning: To get the last learning rate computed by the scheduler, please use `get_last_lr()`.\n",
            "  warnings.warn(\"To get the last learning rate computed by the scheduler, \"\n"
          ]
        },
        {
          "output_type": "stream",
          "name": "stdout",
          "text": [
            "test_acc: 0.244\n",
            "Saving..\n",
            "\n",
            "Epoch: 1\n"
          ]
        },
        {
          "output_type": "stream",
          "name": "stderr",
          "text": [
            "Epoch 1: 100%|██████████| 391/391 [00:20<00:00, 18.72it/s, train_acc=0.275, xentropy=1.352]\n"
          ]
        },
        {
          "output_type": "stream",
          "name": "stdout",
          "text": [
            "test_acc: 0.229\n",
            "\n",
            "Epoch: 2\n"
          ]
        },
        {
          "output_type": "stream",
          "name": "stderr",
          "text": [
            "Epoch 2: 100%|██████████| 391/391 [00:21<00:00, 18.43it/s, train_acc=0.314, xentropy=1.290]\n"
          ]
        },
        {
          "output_type": "stream",
          "name": "stdout",
          "text": [
            "test_acc: 0.345\n",
            "Saving..\n",
            "\n",
            "Epoch: 3\n"
          ]
        },
        {
          "output_type": "stream",
          "name": "stderr",
          "text": [
            "Epoch 3: 100%|██████████| 391/391 [00:20<00:00, 18.81it/s, train_acc=0.357, xentropy=1.227]\n"
          ]
        },
        {
          "output_type": "stream",
          "name": "stdout",
          "text": [
            "test_acc: 0.374\n",
            "Saving..\n",
            "\n",
            "Epoch: 4\n"
          ]
        },
        {
          "output_type": "stream",
          "name": "stderr",
          "text": [
            "Epoch 4: 100%|██████████| 391/391 [00:20<00:00, 19.01it/s, train_acc=0.384, xentropy=1.184]\n"
          ]
        },
        {
          "output_type": "stream",
          "name": "stdout",
          "text": [
            "test_acc: 0.373\n",
            "\n",
            "Epoch: 5\n"
          ]
        },
        {
          "output_type": "stream",
          "name": "stderr",
          "text": [
            "Epoch 5: 100%|██████████| 391/391 [00:20<00:00, 18.87it/s, train_acc=0.403, xentropy=1.150]\n"
          ]
        },
        {
          "output_type": "stream",
          "name": "stdout",
          "text": [
            "test_acc: 0.417\n",
            "Saving..\n",
            "\n",
            "Epoch: 6\n"
          ]
        },
        {
          "output_type": "stream",
          "name": "stderr",
          "text": [
            "Epoch 6: 100%|██████████| 391/391 [00:20<00:00, 18.80it/s, train_acc=0.427, xentropy=1.121]\n"
          ]
        },
        {
          "output_type": "stream",
          "name": "stdout",
          "text": [
            "test_acc: 0.426\n",
            "Saving..\n",
            "\n",
            "Epoch: 7\n"
          ]
        },
        {
          "output_type": "stream",
          "name": "stderr",
          "text": [
            "Epoch 7: 100%|██████████| 391/391 [00:20<00:00, 18.81it/s, train_acc=0.446, xentropy=1.090]\n"
          ]
        },
        {
          "output_type": "stream",
          "name": "stdout",
          "text": [
            "test_acc: 0.400\n",
            "\n",
            "Epoch: 8\n"
          ]
        },
        {
          "output_type": "stream",
          "name": "stderr",
          "text": [
            "Epoch 8: 100%|██████████| 391/391 [00:20<00:00, 19.06it/s, train_acc=0.463, xentropy=1.062]\n"
          ]
        },
        {
          "output_type": "stream",
          "name": "stdout",
          "text": [
            "test_acc: 0.452\n",
            "Saving..\n",
            "\n",
            "Epoch: 9\n"
          ]
        },
        {
          "output_type": "stream",
          "name": "stderr",
          "text": [
            "Epoch 9: 100%|██████████| 391/391 [00:20<00:00, 18.84it/s, train_acc=0.478, xentropy=1.040]\n"
          ]
        },
        {
          "output_type": "stream",
          "name": "stdout",
          "text": [
            "test_acc: 0.455\n",
            "Saving..\n",
            "\n",
            "Epoch: 10\n"
          ]
        },
        {
          "output_type": "stream",
          "name": "stderr",
          "text": [
            "Epoch 10: 100%|██████████| 391/391 [00:21<00:00, 18.31it/s, train_acc=0.496, xentropy=1.013]\n"
          ]
        },
        {
          "output_type": "stream",
          "name": "stdout",
          "text": [
            "test_acc: 0.464\n",
            "Saving..\n",
            "\n",
            "Epoch: 11\n"
          ]
        },
        {
          "output_type": "stream",
          "name": "stderr",
          "text": [
            "Epoch 11: 100%|██████████| 391/391 [00:20<00:00, 18.82it/s, train_acc=0.517, xentropy=0.985]\n"
          ]
        },
        {
          "output_type": "stream",
          "name": "stdout",
          "text": [
            "test_acc: 0.491\n",
            "Saving..\n",
            "\n",
            "Epoch: 12\n"
          ]
        },
        {
          "output_type": "stream",
          "name": "stderr",
          "text": [
            "Epoch 12: 100%|██████████| 391/391 [00:21<00:00, 18.38it/s, train_acc=0.537, xentropy=0.952]\n"
          ]
        },
        {
          "output_type": "stream",
          "name": "stdout",
          "text": [
            "test_acc: 0.460\n",
            "\n",
            "Epoch: 13\n"
          ]
        },
        {
          "output_type": "stream",
          "name": "stderr",
          "text": [
            "Epoch 13: 100%|██████████| 391/391 [00:21<00:00, 18.54it/s, train_acc=0.554, xentropy=0.921]\n"
          ]
        },
        {
          "output_type": "stream",
          "name": "stdout",
          "text": [
            "test_acc: 0.547\n",
            "Saving..\n",
            "\n",
            "Epoch: 14\n"
          ]
        },
        {
          "output_type": "stream",
          "name": "stderr",
          "text": [
            "Epoch 14: 100%|██████████| 391/391 [00:20<00:00, 18.79it/s, train_acc=0.569, xentropy=0.893]\n"
          ]
        },
        {
          "output_type": "stream",
          "name": "stdout",
          "text": [
            "test_acc: 0.462\n",
            "\n",
            "Epoch: 15\n"
          ]
        },
        {
          "output_type": "stream",
          "name": "stderr",
          "text": [
            "Epoch 15: 100%|██████████| 391/391 [00:20<00:00, 18.70it/s, train_acc=0.583, xentropy=0.871]\n"
          ]
        },
        {
          "output_type": "stream",
          "name": "stdout",
          "text": [
            "test_acc: 0.569\n",
            "Saving..\n",
            "\n",
            "Epoch: 16\n"
          ]
        },
        {
          "output_type": "stream",
          "name": "stderr",
          "text": [
            "Epoch 16: 100%|██████████| 391/391 [00:20<00:00, 18.73it/s, train_acc=0.598, xentropy=0.848]\n"
          ]
        },
        {
          "output_type": "stream",
          "name": "stdout",
          "text": [
            "test_acc: 0.548\n",
            "\n",
            "Epoch: 17\n"
          ]
        },
        {
          "output_type": "stream",
          "name": "stderr",
          "text": [
            "Epoch 17: 100%|██████████| 391/391 [00:21<00:00, 18.39it/s, train_acc=0.611, xentropy=0.822]\n"
          ]
        },
        {
          "output_type": "stream",
          "name": "stdout",
          "text": [
            "test_acc: 0.579\n",
            "Saving..\n",
            "\n",
            "Epoch: 18\n"
          ]
        },
        {
          "output_type": "stream",
          "name": "stderr",
          "text": [
            "Epoch 18: 100%|██████████| 391/391 [00:21<00:00, 18.39it/s, train_acc=0.624, xentropy=0.801]\n"
          ]
        },
        {
          "output_type": "stream",
          "name": "stdout",
          "text": [
            "test_acc: 0.576\n",
            "\n",
            "Epoch: 19\n"
          ]
        },
        {
          "output_type": "stream",
          "name": "stderr",
          "text": [
            "Epoch 19: 100%|██████████| 391/391 [00:21<00:00, 18.44it/s, train_acc=0.634, xentropy=0.785]\n"
          ]
        },
        {
          "output_type": "stream",
          "name": "stdout",
          "text": [
            "test_acc: 0.543\n",
            "\n",
            "Epoch: 20\n"
          ]
        },
        {
          "output_type": "stream",
          "name": "stderr",
          "text": [
            "Epoch 20: 100%|██████████| 391/391 [00:21<00:00, 18.48it/s, train_acc=0.662, xentropy=0.739]\n"
          ]
        },
        {
          "output_type": "stream",
          "name": "stdout",
          "text": [
            "test_acc: 0.628\n",
            "Saving..\n",
            "\n",
            "Epoch: 21\n"
          ]
        },
        {
          "output_type": "stream",
          "name": "stderr",
          "text": [
            "Epoch 21: 100%|██████████| 391/391 [00:21<00:00, 18.49it/s, train_acc=0.668, xentropy=0.724]\n"
          ]
        },
        {
          "output_type": "stream",
          "name": "stdout",
          "text": [
            "test_acc: 0.645\n",
            "Saving..\n",
            "\n",
            "Epoch: 22\n"
          ]
        },
        {
          "output_type": "stream",
          "name": "stderr",
          "text": [
            "Epoch 22: 100%|██████████| 391/391 [00:21<00:00, 18.51it/s, train_acc=0.676, xentropy=0.711]\n"
          ]
        },
        {
          "output_type": "stream",
          "name": "stdout",
          "text": [
            "test_acc: 0.665\n",
            "Saving..\n",
            "\n",
            "Epoch: 23\n"
          ]
        },
        {
          "output_type": "stream",
          "name": "stderr",
          "text": [
            "Epoch 23: 100%|██████████| 391/391 [00:20<00:00, 18.70it/s, train_acc=0.678, xentropy=0.707]\n"
          ]
        },
        {
          "output_type": "stream",
          "name": "stdout",
          "text": [
            "test_acc: 0.661\n",
            "\n",
            "Epoch: 24\n"
          ]
        },
        {
          "output_type": "stream",
          "name": "stderr",
          "text": [
            "Epoch 24: 100%|██████████| 391/391 [00:20<00:00, 18.94it/s, train_acc=0.679, xentropy=0.704]\n"
          ]
        },
        {
          "output_type": "stream",
          "name": "stdout",
          "text": [
            "test_acc: 0.681\n",
            "Saving..\n",
            "\n",
            "Epoch: 25\n"
          ]
        },
        {
          "output_type": "stream",
          "name": "stderr",
          "text": [
            "Epoch 25: 100%|██████████| 391/391 [00:20<00:00, 18.65it/s, train_acc=0.684, xentropy=0.696]\n"
          ]
        },
        {
          "output_type": "stream",
          "name": "stdout",
          "text": [
            "test_acc: 0.653\n",
            "\n",
            "Epoch: 26\n"
          ]
        },
        {
          "output_type": "stream",
          "name": "stderr",
          "text": [
            "Epoch 26: 100%|██████████| 391/391 [00:20<00:00, 18.82it/s, train_acc=0.687, xentropy=0.691]\n"
          ]
        },
        {
          "output_type": "stream",
          "name": "stdout",
          "text": [
            "test_acc: 0.657\n",
            "\n",
            "Epoch: 27\n"
          ]
        },
        {
          "output_type": "stream",
          "name": "stderr",
          "text": [
            "Epoch 27: 100%|██████████| 391/391 [00:21<00:00, 18.58it/s, train_acc=0.687, xentropy=0.688]\n"
          ]
        },
        {
          "output_type": "stream",
          "name": "stdout",
          "text": [
            "test_acc: 0.644\n",
            "\n",
            "Epoch: 28\n"
          ]
        },
        {
          "output_type": "stream",
          "name": "stderr",
          "text": [
            "Epoch 28: 100%|██████████| 391/391 [00:20<00:00, 18.75it/s, train_acc=0.689, xentropy=0.682]\n"
          ]
        },
        {
          "output_type": "stream",
          "name": "stdout",
          "text": [
            "test_acc: 0.674\n",
            "\n",
            "Epoch: 29\n"
          ]
        },
        {
          "output_type": "stream",
          "name": "stderr",
          "text": [
            "Epoch 29: 100%|██████████| 391/391 [00:21<00:00, 18.61it/s, train_acc=0.693, xentropy=0.674]\n"
          ]
        },
        {
          "output_type": "stream",
          "name": "stdout",
          "text": [
            "test_acc: 0.624\n",
            "\n",
            "Epoch: 30\n"
          ]
        },
        {
          "output_type": "stream",
          "name": "stderr",
          "text": [
            "Epoch 30: 100%|██████████| 391/391 [00:20<00:00, 18.62it/s, train_acc=0.698, xentropy=0.670]\n"
          ]
        },
        {
          "output_type": "stream",
          "name": "stdout",
          "text": [
            "test_acc: 0.680\n",
            "\n",
            "Epoch: 31\n"
          ]
        },
        {
          "output_type": "stream",
          "name": "stderr",
          "text": [
            "Epoch 31: 100%|██████████| 391/391 [00:21<00:00, 18.54it/s, train_acc=0.697, xentropy=0.667]\n"
          ]
        },
        {
          "output_type": "stream",
          "name": "stdout",
          "text": [
            "test_acc: 0.679\n",
            "\n",
            "Epoch: 32\n"
          ]
        },
        {
          "output_type": "stream",
          "name": "stderr",
          "text": [
            "Epoch 32: 100%|██████████| 391/391 [00:21<00:00, 18.58it/s, train_acc=0.702, xentropy=0.659]\n"
          ]
        },
        {
          "output_type": "stream",
          "name": "stdout",
          "text": [
            "test_acc: 0.652\n",
            "\n",
            "Epoch: 33\n"
          ]
        },
        {
          "output_type": "stream",
          "name": "stderr",
          "text": [
            "Epoch 33: 100%|██████████| 391/391 [00:20<00:00, 18.64it/s, train_acc=0.703, xentropy=0.657]\n"
          ]
        },
        {
          "output_type": "stream",
          "name": "stdout",
          "text": [
            "test_acc: 0.677\n",
            "\n",
            "Epoch: 34\n"
          ]
        },
        {
          "output_type": "stream",
          "name": "stderr",
          "text": [
            "Epoch 34: 100%|██████████| 391/391 [00:21<00:00, 18.29it/s, train_acc=0.701, xentropy=0.656]\n"
          ]
        },
        {
          "output_type": "stream",
          "name": "stdout",
          "text": [
            "test_acc: 0.681\n",
            "Saving..\n",
            "\n",
            "Epoch: 35\n"
          ]
        },
        {
          "output_type": "stream",
          "name": "stderr",
          "text": [
            "Epoch 35: 100%|██████████| 391/391 [00:20<00:00, 18.69it/s, train_acc=0.704, xentropy=0.652]\n"
          ]
        },
        {
          "output_type": "stream",
          "name": "stdout",
          "text": [
            "test_acc: 0.679\n",
            "\n",
            "Epoch: 36\n"
          ]
        },
        {
          "output_type": "stream",
          "name": "stderr",
          "text": [
            "Epoch 36: 100%|██████████| 391/391 [00:21<00:00, 18.47it/s, train_acc=0.707, xentropy=0.648]\n"
          ]
        },
        {
          "output_type": "stream",
          "name": "stdout",
          "text": [
            "test_acc: 0.662\n",
            "\n",
            "Epoch: 37\n"
          ]
        },
        {
          "output_type": "stream",
          "name": "stderr",
          "text": [
            "Epoch 37: 100%|██████████| 391/391 [00:21<00:00, 18.47it/s, train_acc=0.710, xentropy=0.644]\n"
          ]
        },
        {
          "output_type": "stream",
          "name": "stdout",
          "text": [
            "test_acc: 0.681\n",
            "\n",
            "Epoch: 38\n"
          ]
        },
        {
          "output_type": "stream",
          "name": "stderr",
          "text": [
            "Epoch 38: 100%|██████████| 391/391 [00:20<00:00, 18.82it/s, train_acc=0.710, xentropy=0.642]\n"
          ]
        },
        {
          "output_type": "stream",
          "name": "stdout",
          "text": [
            "test_acc: 0.707\n",
            "Saving..\n",
            "\n",
            "Epoch: 39\n"
          ]
        },
        {
          "output_type": "stream",
          "name": "stderr",
          "text": [
            "Epoch 39: 100%|██████████| 391/391 [00:21<00:00, 18.39it/s, train_acc=0.713, xentropy=0.640]\n"
          ]
        },
        {
          "output_type": "stream",
          "name": "stdout",
          "text": [
            "test_acc: 0.662\n",
            "\n",
            "Epoch: 40\n"
          ]
        },
        {
          "output_type": "stream",
          "name": "stderr",
          "text": [
            "Epoch 40: 100%|██████████| 391/391 [00:21<00:00, 18.21it/s, train_acc=0.729, xentropy=0.616]\n"
          ]
        },
        {
          "output_type": "stream",
          "name": "stdout",
          "text": [
            "test_acc: 0.720\n",
            "Saving..\n",
            "\n",
            "Epoch: 41\n"
          ]
        },
        {
          "output_type": "stream",
          "name": "stderr",
          "text": [
            "Epoch 41: 100%|██████████| 391/391 [00:21<00:00, 18.22it/s, train_acc=0.729, xentropy=0.613]\n"
          ]
        },
        {
          "output_type": "stream",
          "name": "stdout",
          "text": [
            "test_acc: 0.714\n",
            "\n",
            "Epoch: 42\n"
          ]
        },
        {
          "output_type": "stream",
          "name": "stderr",
          "text": [
            "Epoch 42: 100%|██████████| 391/391 [00:21<00:00, 18.54it/s, train_acc=0.729, xentropy=0.610]\n"
          ]
        },
        {
          "output_type": "stream",
          "name": "stdout",
          "text": [
            "test_acc: 0.703\n",
            "\n",
            "Epoch: 43\n"
          ]
        },
        {
          "output_type": "stream",
          "name": "stderr",
          "text": [
            "Epoch 43: 100%|██████████| 391/391 [00:21<00:00, 18.41it/s, train_acc=0.729, xentropy=0.609]\n"
          ]
        },
        {
          "output_type": "stream",
          "name": "stdout",
          "text": [
            "test_acc: 0.698\n",
            "\n",
            "Epoch: 44\n"
          ]
        },
        {
          "output_type": "stream",
          "name": "stderr",
          "text": [
            "Epoch 44: 100%|██████████| 391/391 [00:21<00:00, 18.55it/s, train_acc=0.728, xentropy=0.610]\n"
          ]
        },
        {
          "output_type": "stream",
          "name": "stdout",
          "text": [
            "test_acc: 0.730\n",
            "Saving..\n",
            "\n",
            "Epoch: 45\n"
          ]
        },
        {
          "output_type": "stream",
          "name": "stderr",
          "text": [
            "Epoch 45: 100%|██████████| 391/391 [00:20<00:00, 18.80it/s, train_acc=0.729, xentropy=0.611]\n"
          ]
        },
        {
          "output_type": "stream",
          "name": "stdout",
          "text": [
            "test_acc: 0.716\n",
            "\n",
            "Epoch: 46\n"
          ]
        },
        {
          "output_type": "stream",
          "name": "stderr",
          "text": [
            "Epoch 46: 100%|██████████| 391/391 [00:21<00:00, 18.26it/s, train_acc=0.733, xentropy=0.606]\n"
          ]
        },
        {
          "output_type": "stream",
          "name": "stdout",
          "text": [
            "test_acc: 0.720\n",
            "\n",
            "Epoch: 47\n"
          ]
        },
        {
          "output_type": "stream",
          "name": "stderr",
          "text": [
            "Epoch 47: 100%|██████████| 391/391 [00:20<00:00, 18.74it/s, train_acc=0.732, xentropy=0.607]\n"
          ]
        },
        {
          "output_type": "stream",
          "name": "stdout",
          "text": [
            "test_acc: 0.708\n",
            "\n",
            "Epoch: 48\n"
          ]
        },
        {
          "output_type": "stream",
          "name": "stderr",
          "text": [
            "Epoch 48: 100%|██████████| 391/391 [00:21<00:00, 18.42it/s, train_acc=0.733, xentropy=0.606]\n"
          ]
        },
        {
          "output_type": "stream",
          "name": "stdout",
          "text": [
            "test_acc: 0.727\n",
            "\n",
            "Epoch: 49\n"
          ]
        },
        {
          "output_type": "stream",
          "name": "stderr",
          "text": [
            "Epoch 49: 100%|██████████| 391/391 [00:21<00:00, 18.52it/s, train_acc=0.733, xentropy=0.604]\n"
          ]
        },
        {
          "output_type": "stream",
          "name": "stdout",
          "text": [
            "test_acc: 0.710\n",
            "\n",
            "Epoch: 50\n"
          ]
        },
        {
          "output_type": "stream",
          "name": "stderr",
          "text": [
            "Epoch 50: 100%|██████████| 391/391 [00:21<00:00, 18.19it/s, train_acc=0.733, xentropy=0.604]\n"
          ]
        },
        {
          "output_type": "stream",
          "name": "stdout",
          "text": [
            "test_acc: 0.662\n",
            "\n",
            "Epoch: 51\n"
          ]
        },
        {
          "output_type": "stream",
          "name": "stderr",
          "text": [
            "Epoch 51: 100%|██████████| 391/391 [00:21<00:00, 18.25it/s, train_acc=0.733, xentropy=0.603]\n"
          ]
        },
        {
          "output_type": "stream",
          "name": "stdout",
          "text": [
            "test_acc: 0.717\n",
            "\n",
            "Epoch: 52\n"
          ]
        },
        {
          "output_type": "stream",
          "name": "stderr",
          "text": [
            "Epoch 52: 100%|██████████| 391/391 [00:21<00:00, 18.52it/s, train_acc=0.733, xentropy=0.604]\n"
          ]
        },
        {
          "output_type": "stream",
          "name": "stdout",
          "text": [
            "test_acc: 0.715\n",
            "\n",
            "Epoch: 53\n"
          ]
        },
        {
          "output_type": "stream",
          "name": "stderr",
          "text": [
            "Epoch 53: 100%|██████████| 391/391 [00:20<00:00, 18.66it/s, train_acc=0.734, xentropy=0.603]\n"
          ]
        },
        {
          "output_type": "stream",
          "name": "stdout",
          "text": [
            "test_acc: 0.699\n",
            "\n",
            "Epoch: 54\n"
          ]
        },
        {
          "output_type": "stream",
          "name": "stderr",
          "text": [
            "Epoch 54: 100%|██████████| 391/391 [00:20<00:00, 19.02it/s, train_acc=0.734, xentropy=0.601]\n"
          ]
        },
        {
          "output_type": "stream",
          "name": "stdout",
          "text": [
            "test_acc: 0.736\n",
            "Saving..\n",
            "\n",
            "Epoch: 55\n"
          ]
        },
        {
          "output_type": "stream",
          "name": "stderr",
          "text": [
            "Epoch 55: 100%|██████████| 391/391 [00:20<00:00, 18.98it/s, train_acc=0.735, xentropy=0.602]\n"
          ]
        },
        {
          "output_type": "stream",
          "name": "stdout",
          "text": [
            "test_acc: 0.705\n",
            "\n",
            "Epoch: 56\n"
          ]
        },
        {
          "output_type": "stream",
          "name": "stderr",
          "text": [
            "Epoch 56: 100%|██████████| 391/391 [00:20<00:00, 18.83it/s, train_acc=0.735, xentropy=0.599]\n"
          ]
        },
        {
          "output_type": "stream",
          "name": "stdout",
          "text": [
            "test_acc: 0.694\n",
            "\n",
            "Epoch: 57\n"
          ]
        },
        {
          "output_type": "stream",
          "name": "stderr",
          "text": [
            "Epoch 57: 100%|██████████| 391/391 [00:21<00:00, 18.61it/s, train_acc=0.735, xentropy=0.599]\n"
          ]
        },
        {
          "output_type": "stream",
          "name": "stdout",
          "text": [
            "test_acc: 0.708\n",
            "\n",
            "Epoch: 58\n"
          ]
        },
        {
          "output_type": "stream",
          "name": "stderr",
          "text": [
            "Epoch 58: 100%|██████████| 391/391 [00:20<00:00, 19.11it/s, train_acc=0.734, xentropy=0.599]\n"
          ]
        },
        {
          "output_type": "stream",
          "name": "stdout",
          "text": [
            "test_acc: 0.731\n",
            "\n",
            "Epoch: 59\n"
          ]
        },
        {
          "output_type": "stream",
          "name": "stderr",
          "text": [
            "Epoch 59: 100%|██████████| 391/391 [00:20<00:00, 18.97it/s, train_acc=0.734, xentropy=0.598]\n"
          ]
        },
        {
          "output_type": "stream",
          "name": "stdout",
          "text": [
            "test_acc: 0.694\n",
            "\n",
            "Epoch: 60\n"
          ]
        },
        {
          "output_type": "stream",
          "name": "stderr",
          "text": [
            "Epoch 60: 100%|██████████| 391/391 [00:20<00:00, 18.85it/s, train_acc=0.743, xentropy=0.588]\n"
          ]
        },
        {
          "output_type": "stream",
          "name": "stdout",
          "text": [
            "test_acc: 0.717\n",
            "\n",
            "Epoch: 61\n"
          ]
        },
        {
          "output_type": "stream",
          "name": "stderr",
          "text": [
            "Epoch 61: 100%|██████████| 391/391 [00:20<00:00, 18.89it/s, train_acc=0.744, xentropy=0.587]\n"
          ]
        },
        {
          "output_type": "stream",
          "name": "stdout",
          "text": [
            "test_acc: 0.722\n",
            "\n",
            "Epoch: 62\n"
          ]
        },
        {
          "output_type": "stream",
          "name": "stderr",
          "text": [
            "Epoch 62: 100%|██████████| 391/391 [00:20<00:00, 18.64it/s, train_acc=0.743, xentropy=0.585]\n"
          ]
        },
        {
          "output_type": "stream",
          "name": "stdout",
          "text": [
            "test_acc: 0.737\n",
            "Saving..\n",
            "\n",
            "Epoch: 63\n"
          ]
        },
        {
          "output_type": "stream",
          "name": "stderr",
          "text": [
            "Epoch 63: 100%|██████████| 391/391 [00:20<00:00, 18.91it/s, train_acc=0.741, xentropy=0.588]\n"
          ]
        },
        {
          "output_type": "stream",
          "name": "stdout",
          "text": [
            "test_acc: 0.690\n",
            "\n",
            "Epoch: 64\n"
          ]
        },
        {
          "output_type": "stream",
          "name": "stderr",
          "text": [
            "Epoch 64: 100%|██████████| 391/391 [00:20<00:00, 18.84it/s, train_acc=0.743, xentropy=0.586]\n"
          ]
        },
        {
          "output_type": "stream",
          "name": "stdout",
          "text": [
            "test_acc: 0.719\n",
            "\n",
            "Epoch: 65\n"
          ]
        },
        {
          "output_type": "stream",
          "name": "stderr",
          "text": [
            "Epoch 65: 100%|██████████| 391/391 [00:20<00:00, 18.64it/s, train_acc=0.743, xentropy=0.588]\n"
          ]
        },
        {
          "output_type": "stream",
          "name": "stdout",
          "text": [
            "test_acc: 0.717\n",
            "\n",
            "Epoch: 66\n"
          ]
        },
        {
          "output_type": "stream",
          "name": "stderr",
          "text": [
            "Epoch 66: 100%|██████████| 391/391 [00:21<00:00, 18.55it/s, train_acc=0.745, xentropy=0.586]\n"
          ]
        },
        {
          "output_type": "stream",
          "name": "stdout",
          "text": [
            "test_acc: 0.731\n",
            "\n",
            "Epoch: 67\n"
          ]
        },
        {
          "output_type": "stream",
          "name": "stderr",
          "text": [
            "Epoch 67: 100%|██████████| 391/391 [00:20<00:00, 18.97it/s, train_acc=0.743, xentropy=0.586]\n"
          ]
        },
        {
          "output_type": "stream",
          "name": "stdout",
          "text": [
            "test_acc: 0.726\n",
            "\n",
            "Epoch: 68\n"
          ]
        },
        {
          "output_type": "stream",
          "name": "stderr",
          "text": [
            "Epoch 68: 100%|██████████| 391/391 [00:20<00:00, 19.03it/s, train_acc=0.742, xentropy=0.586]\n"
          ]
        },
        {
          "output_type": "stream",
          "name": "stdout",
          "text": [
            "test_acc: 0.708\n",
            "\n",
            "Epoch: 69\n"
          ]
        },
        {
          "output_type": "stream",
          "name": "stderr",
          "text": [
            "Epoch 69: 100%|██████████| 391/391 [00:20<00:00, 18.77it/s, train_acc=0.743, xentropy=0.586]\n"
          ]
        },
        {
          "output_type": "stream",
          "name": "stdout",
          "text": [
            "test_acc: 0.744\n",
            "Saving..\n",
            "\n",
            "Epoch: 70\n"
          ]
        },
        {
          "output_type": "stream",
          "name": "stderr",
          "text": [
            "Epoch 70: 100%|██████████| 391/391 [00:20<00:00, 18.76it/s, train_acc=0.745, xentropy=0.587]\n"
          ]
        },
        {
          "output_type": "stream",
          "name": "stdout",
          "text": [
            "test_acc: 0.742\n",
            "\n",
            "Epoch: 71\n"
          ]
        },
        {
          "output_type": "stream",
          "name": "stderr",
          "text": [
            "Epoch 71: 100%|██████████| 391/391 [00:21<00:00, 18.60it/s, train_acc=0.742, xentropy=0.586]\n"
          ]
        },
        {
          "output_type": "stream",
          "name": "stdout",
          "text": [
            "test_acc: 0.717\n",
            "\n",
            "Epoch: 72\n"
          ]
        },
        {
          "output_type": "stream",
          "name": "stderr",
          "text": [
            "Epoch 72: 100%|██████████| 391/391 [00:20<00:00, 18.98it/s, train_acc=0.742, xentropy=0.588]\n"
          ]
        },
        {
          "output_type": "stream",
          "name": "stdout",
          "text": [
            "test_acc: 0.719\n",
            "\n",
            "Epoch: 73\n"
          ]
        },
        {
          "output_type": "stream",
          "name": "stderr",
          "text": [
            "Epoch 73: 100%|██████████| 391/391 [00:20<00:00, 18.95it/s, train_acc=0.742, xentropy=0.587]\n"
          ]
        },
        {
          "output_type": "stream",
          "name": "stdout",
          "text": [
            "test_acc: 0.730\n",
            "\n",
            "Epoch: 74\n"
          ]
        },
        {
          "output_type": "stream",
          "name": "stderr",
          "text": [
            "Epoch 74: 100%|██████████| 391/391 [00:20<00:00, 18.82it/s, train_acc=0.744, xentropy=0.584]\n"
          ]
        },
        {
          "output_type": "stream",
          "name": "stdout",
          "text": [
            "test_acc: 0.697\n",
            "\n",
            "Epoch: 75\n"
          ]
        },
        {
          "output_type": "stream",
          "name": "stderr",
          "text": [
            "Epoch 75: 100%|██████████| 391/391 [00:21<00:00, 18.61it/s, train_acc=0.746, xentropy=0.583]\n"
          ]
        },
        {
          "output_type": "stream",
          "name": "stdout",
          "text": [
            "test_acc: 0.743\n",
            "\n",
            "Epoch: 76\n"
          ]
        },
        {
          "output_type": "stream",
          "name": "stderr",
          "text": [
            "Epoch 76: 100%|██████████| 391/391 [00:20<00:00, 18.65it/s, train_acc=0.743, xentropy=0.586]\n"
          ]
        },
        {
          "output_type": "stream",
          "name": "stdout",
          "text": [
            "test_acc: 0.736\n",
            "\n",
            "Epoch: 77\n"
          ]
        },
        {
          "output_type": "stream",
          "name": "stderr",
          "text": [
            "Epoch 77: 100%|██████████| 391/391 [00:21<00:00, 18.47it/s, train_acc=0.742, xentropy=0.586]\n"
          ]
        },
        {
          "output_type": "stream",
          "name": "stdout",
          "text": [
            "test_acc: 0.737\n",
            "\n",
            "Epoch: 78\n"
          ]
        },
        {
          "output_type": "stream",
          "name": "stderr",
          "text": [
            "Epoch 78: 100%|██████████| 391/391 [00:20<00:00, 18.87it/s, train_acc=0.743, xentropy=0.584]\n"
          ]
        },
        {
          "output_type": "stream",
          "name": "stdout",
          "text": [
            "test_acc: 0.711\n",
            "\n",
            "Epoch: 79\n"
          ]
        },
        {
          "output_type": "stream",
          "name": "stderr",
          "text": [
            "Epoch 79: 100%|██████████| 391/391 [00:20<00:00, 18.99it/s, train_acc=0.744, xentropy=0.585]\n"
          ]
        },
        {
          "output_type": "stream",
          "name": "stdout",
          "text": [
            "test_acc: 0.712\n",
            "\n",
            "Epoch: 80\n"
          ]
        },
        {
          "output_type": "stream",
          "name": "stderr",
          "text": [
            "Epoch 80: 100%|██████████| 391/391 [00:21<00:00, 18.43it/s, train_acc=0.746, xentropy=0.580]\n"
          ]
        },
        {
          "output_type": "stream",
          "name": "stdout",
          "text": [
            "test_acc: 0.677\n",
            "\n",
            "Epoch: 81\n"
          ]
        },
        {
          "output_type": "stream",
          "name": "stderr",
          "text": [
            "Epoch 81: 100%|██████████| 391/391 [00:20<00:00, 18.63it/s, train_acc=0.743, xentropy=0.581]\n"
          ]
        },
        {
          "output_type": "stream",
          "name": "stdout",
          "text": [
            "test_acc: 0.726\n",
            "\n",
            "Epoch: 82\n"
          ]
        },
        {
          "output_type": "stream",
          "name": "stderr",
          "text": [
            "Epoch 82: 100%|██████████| 391/391 [00:21<00:00, 18.44it/s, train_acc=0.747, xentropy=0.578]\n"
          ]
        },
        {
          "output_type": "stream",
          "name": "stdout",
          "text": [
            "test_acc: 0.739\n",
            "\n",
            "Epoch: 83\n"
          ]
        },
        {
          "output_type": "stream",
          "name": "stderr",
          "text": [
            "Epoch 83: 100%|██████████| 391/391 [00:20<00:00, 18.99it/s, train_acc=0.747, xentropy=0.577]\n"
          ]
        },
        {
          "output_type": "stream",
          "name": "stdout",
          "text": [
            "test_acc: 0.750\n",
            "Saving..\n",
            "\n",
            "Epoch: 84\n"
          ]
        },
        {
          "output_type": "stream",
          "name": "stderr",
          "text": [
            "Epoch 84: 100%|██████████| 391/391 [00:20<00:00, 18.67it/s, train_acc=0.748, xentropy=0.580]\n"
          ]
        },
        {
          "output_type": "stream",
          "name": "stdout",
          "text": [
            "test_acc: 0.693\n",
            "\n",
            "Epoch: 85\n"
          ]
        },
        {
          "output_type": "stream",
          "name": "stderr",
          "text": [
            "Epoch 85: 100%|██████████| 391/391 [00:20<00:00, 18.77it/s, train_acc=0.748, xentropy=0.579]\n"
          ]
        },
        {
          "output_type": "stream",
          "name": "stdout",
          "text": [
            "test_acc: 0.714\n",
            "\n",
            "Epoch: 86\n"
          ]
        },
        {
          "output_type": "stream",
          "name": "stderr",
          "text": [
            "Epoch 86:  60%|█████▉    | 233/391 [00:12<00:07, 20.45it/s, train_acc=0.748, xentropy=0.581]"
          ]
        }
      ],
      "source": [
        "lr = 0.02\n",
        "arch_tag = \"ResNet20_Q\"\n",
        "batch_size = 128\n",
        "dataset = \"CIFAR10\"\n",
        "T=20\n",
        "alpha=0.7\n",
        "\n",
        "student_model = ResNet20_Q(a_bit=4, w_bit=1)\n",
        "\n",
        "run = wandb.init(\n",
        "    # set the wandb project where this run will be logged\n",
        "    project=\"ResNet20_Q_1bit\",\n",
        "\n",
        "    # track hyperparameters and run metadata\n",
        "    config={\n",
        "    \"learning_rate\": lr,\n",
        "    \"architecture\": arch_tag,\n",
        "    \"batch_size\": batch_size,\n",
        "    \"dataset\": dataset,\n",
        "    \"T\": T,\n",
        "    \"alpha\": alpha,\n",
        "    \"scheduler\": 'MultiStepLR',\n",
        "    \"style\": 'with_KD'\n",
        "    }\n",
        ")\n",
        "\n",
        "my_trainer = ResNetTrainer(dataset=dataset,\n",
        "                           arch_tag=arch_tag,\n",
        "                           student_model=student_model,\n",
        "                           teacher_model=teacher_model,\n",
        "                           T=T,\n",
        "                           alpha=alpha,\n",
        "                           device=device,\n",
        "                           batch_size=batch_size,\n",
        "                           lr=lr)\n",
        "\n",
        "my_trainer.train_script(200)\n",
        "\n",
        "wandb.finish()\n",
        "\n",
        "runtime.unassign()"
      ]
    },
    {
      "cell_type": "code",
      "execution_count": null,
      "metadata": {
        "id": "0Ytz-Jfv_m_A"
      },
      "outputs": [],
      "source": []
    }
  ],
  "metadata": {
    "accelerator": "GPU",
    "colab": {
      "gpuType": "V100",
      "machine_shape": "hm",
      "provenance": [],
      "toc_visible": true
    },
    "kernelspec": {
      "display_name": "Python 3",
      "name": "python3"
    },
    "language_info": {
      "codemirror_mode": {
        "name": "ipython",
        "version": 3
      },
      "file_extension": ".py",
      "mimetype": "text/x-python",
      "name": "python",
      "nbconvert_exporter": "python",
      "pygments_lexer": "ipython3",
      "version": "3.8.17"
    }
  },
  "nbformat": 4,
  "nbformat_minor": 0
}