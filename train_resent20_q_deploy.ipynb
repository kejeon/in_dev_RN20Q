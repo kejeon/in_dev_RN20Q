{
  "cells": [
    {
      "cell_type": "code",
      "execution_count": null,
      "metadata": {
        "colab": {
          "base_uri": "https://localhost:8080/"
        },
        "id": "9Du6bTmkysNv",
        "outputId": "b8e65b3c-2a69-441a-a659-48b7780de7eb"
      },
      "outputs": [
        {
          "output_type": "stream",
          "name": "stdout",
          "text": [
            "\u001b[2K     \u001b[90m━━━━━━━━━━━━━━━━━━━━━━━━━━━━━━━━━━━━━━━━\u001b[0m \u001b[32m2.1/2.1 MB\u001b[0m \u001b[31m40.9 MB/s\u001b[0m eta \u001b[36m0:00:00\u001b[0m\n",
            "\u001b[2K     \u001b[90m━━━━━━━━━━━━━━━━━━━━━━━━━━━━━━━━━━━━━━\u001b[0m \u001b[32m188.5/188.5 kB\u001b[0m \u001b[31m21.7 MB/s\u001b[0m eta \u001b[36m0:00:00\u001b[0m\n",
            "\u001b[2K     \u001b[90m━━━━━━━━━━━━━━━━━━━━━━━━━━━━━━━━━━━━━━\u001b[0m \u001b[32m214.7/214.7 kB\u001b[0m \u001b[31m24.9 MB/s\u001b[0m eta \u001b[36m0:00:00\u001b[0m\n",
            "\u001b[?25h  Preparing metadata (setup.py) ... \u001b[?25l\u001b[?25hdone\n",
            "\u001b[2K     \u001b[90m━━━━━━━━━━━━━━━━━━━━━━━━━━━━━━━━━━━━━━━━\u001b[0m \u001b[32m62.7/62.7 kB\u001b[0m \u001b[31m7.3 MB/s\u001b[0m eta \u001b[36m0:00:00\u001b[0m\n",
            "\u001b[?25h  Building wheel for pathtools (setup.py) ... \u001b[?25l\u001b[?25hdone\n",
            "Mounted at /content/drive\n",
            "/content/drive/MyDrive/GitHub/in_dev_RN20Q\n"
          ]
        }
      ],
      "source": [
        "import sys\n",
        "IN_COLAB = 'google.colab' in sys.modules\n",
        "\n",
        "if IN_COLAB:\n",
        "  !pip install wandb -qU\n",
        "  from google.colab import runtime\n",
        "  from google.colab import drive\n",
        "  drive.mount('/content/drive')\n",
        "  %cd '/content/drive/MyDrive/GitHub/in_dev_RN20Q'"
      ]
    },
    {
      "cell_type": "code",
      "execution_count": null,
      "metadata": {
        "colab": {
          "base_uri": "https://localhost:8080/"
        },
        "id": "Z5baEYcG-O-X",
        "outputId": "feeb1949-4b77-4e0a-a91d-26ca109b445d"
      },
      "outputs": [
        {
          "output_type": "stream",
          "name": "stderr",
          "text": [
            "\u001b[34m\u001b[1mwandb\u001b[0m: W&B API key is configured. Use \u001b[1m`wandb login --relogin`\u001b[0m to force relogin\n",
            "\u001b[34m\u001b[1mwandb\u001b[0m: \u001b[33mWARNING\u001b[0m If you're specifying your api key in code, ensure this code is not shared publicly.\n",
            "\u001b[34m\u001b[1mwandb\u001b[0m: \u001b[33mWARNING\u001b[0m Consider setting the WANDB_API_KEY environment variable, or running `wandb login` from the command line.\n",
            "\u001b[34m\u001b[1mwandb\u001b[0m: Appending key for api.wandb.ai to your netrc file: /root/.netrc\n"
          ]
        },
        {
          "output_type": "execute_result",
          "data": {
            "text/plain": [
              "True"
            ]
          },
          "metadata": {},
          "execution_count": 2
        }
      ],
      "source": [
        "import wandb\n",
        "import torch\n",
        "from model.resnet4c10q import ResNet20_Q\n",
        "from model.resnet4c10 import resnet20\n",
        "from mylib.KDResNetTrainer import ResNetTrainer\n",
        "\n",
        "wandb.login(key='e0c11d3ff2bee4c8775ba05863038fdac671c043')"
      ]
    },
    {
      "cell_type": "code",
      "execution_count": null,
      "metadata": {
        "colab": {
          "base_uri": "https://localhost:8080/",
          "height": 53
        },
        "id": "VjvvTg4FysNx",
        "outputId": "6559371a-b1a2-4813-db00-03ee0f454766"
      },
      "outputs": [
        {
          "output_type": "stream",
          "name": "stderr",
          "text": [
            "\u001b[34m\u001b[1mwandb\u001b[0m:   1 of 1 files downloaded.  \n"
          ]
        },
        {
          "output_type": "execute_result",
          "data": {
            "text/plain": [
              "'./pretrained_model'"
            ],
            "application/vnd.google.colaboratory.intrinsic+json": {
              "type": "string"
            }
          },
          "metadata": {},
          "execution_count": 3
        }
      ],
      "source": [
        "api = wandb.Api()\n",
        "artifact = api.artifact('jke1994/ResNet20/model:v179')\n",
        "artifact.download(root='./pretrained_model')\n"
      ]
    },
    {
      "cell_type": "code",
      "execution_count": null,
      "metadata": {
        "id": "Vpc4MSTmysNx"
      },
      "outputs": [],
      "source": [
        "state_dict = torch.load('./pretrained_model/ckpt.pth', map_location=torch.device('cpu'))\n",
        "\n",
        "# update all keys in state_dict to remove module.\n",
        "state_dict['net'] = {k.replace('module.', ''): v for k, v in state_dict['net'].items()}"
      ]
    },
    {
      "cell_type": "code",
      "execution_count": null,
      "metadata": {
        "colab": {
          "base_uri": "https://localhost:8080/"
        },
        "id": "ovAEV4ICysNx",
        "outputId": "7c092ce7-2c1f-4273-cea0-e77e720861e0"
      },
      "outputs": [
        {
          "output_type": "execute_result",
          "data": {
            "text/plain": [
              "<All keys matched successfully>"
            ]
          },
          "metadata": {},
          "execution_count": 5
        }
      ],
      "source": [
        "teacher_model = resnet20()\n",
        "# load pretrained model for resnet20\n",
        "teacher_model.load_state_dict(state_dict['net'])"
      ]
    },
    {
      "cell_type": "code",
      "execution_count": null,
      "metadata": {
        "colab": {
          "base_uri": "https://localhost:8080/",
          "height": 1000
        },
        "id": "tkgGnl8O-O-Y",
        "outputId": "a12a0681-8d68-4677-8f6e-2fc5483f3374"
      },
      "outputs": [
        {
          "output_type": "stream",
          "name": "stderr",
          "text": [
            "\u001b[34m\u001b[1mwandb\u001b[0m: Currently logged in as: \u001b[33mjke1994\u001b[0m. Use \u001b[1m`wandb login --relogin`\u001b[0m to force relogin\n"
          ]
        },
        {
          "output_type": "display_data",
          "data": {
            "text/plain": [
              "<IPython.core.display.HTML object>"
            ],
            "text/html": [
              "Tracking run with wandb version 0.15.5"
            ]
          },
          "metadata": {}
        },
        {
          "output_type": "display_data",
          "data": {
            "text/plain": [
              "<IPython.core.display.HTML object>"
            ],
            "text/html": [
              "Run data is saved locally in <code>/content/drive/MyDrive/GitHub/in_dev_RN20Q/wandb/run-20230717_100238-tux88tvx</code>"
            ]
          },
          "metadata": {}
        },
        {
          "output_type": "display_data",
          "data": {
            "text/plain": [
              "<IPython.core.display.HTML object>"
            ],
            "text/html": [
              "Syncing run <strong><a href='https://wandb.ai/jke1994/ResNet20_Q/runs/tux88tvx' target=\"_blank\">restful-energy-14</a></strong> to <a href='https://wandb.ai/jke1994/ResNet20_Q' target=\"_blank\">Weights & Biases</a> (<a href='https://wandb.me/run' target=\"_blank\">docs</a>)<br/>"
            ]
          },
          "metadata": {}
        },
        {
          "output_type": "display_data",
          "data": {
            "text/plain": [
              "<IPython.core.display.HTML object>"
            ],
            "text/html": [
              " View project at <a href='https://wandb.ai/jke1994/ResNet20_Q' target=\"_blank\">https://wandb.ai/jke1994/ResNet20_Q</a>"
            ]
          },
          "metadata": {}
        },
        {
          "output_type": "display_data",
          "data": {
            "text/plain": [
              "<IPython.core.display.HTML object>"
            ],
            "text/html": [
              " View run at <a href='https://wandb.ai/jke1994/ResNet20_Q/runs/tux88tvx' target=\"_blank\">https://wandb.ai/jke1994/ResNet20_Q/runs/tux88tvx</a>"
            ]
          },
          "metadata": {}
        },
        {
          "output_type": "stream",
          "name": "stdout",
          "text": [
            "Files already downloaded and verified\n",
            "Files already downloaded and verified\n",
            "\n",
            "Epoch: 0\n"
          ]
        },
        {
          "output_type": "stream",
          "name": "stderr",
          "text": [
            "Epoch 0:   0%|          | 0/391 [00:00<?, ?it/s]/usr/local/lib/python3.10/dist-packages/torch/nn/functional.py:2919: UserWarning: reduction: 'mean' divides the total loss by both the batch size and the support size.'batchmean' divides only by the batch size, and aligns with the KL div math definition.'mean' will be changed to behave the same as 'batchmean' in the next major release.\n",
            "  warnings.warn(\n",
            "Epoch 0: 100%|██████████| 391/391 [00:21<00:00, 18.54it/s, train_acc=0.197, xentropy=1.468]\n",
            "/usr/local/lib/python3.10/dist-packages/torch/optim/lr_scheduler.py:437: UserWarning: To get the last learning rate computed by the scheduler, please use `get_last_lr()`.\n",
            "  warnings.warn(\"To get the last learning rate computed by the scheduler, \"\n"
          ]
        },
        {
          "output_type": "stream",
          "name": "stdout",
          "text": [
            "test_acc: 0.209\n",
            "Saving..\n",
            "\n",
            "Epoch: 1\n"
          ]
        },
        {
          "output_type": "stream",
          "name": "stderr",
          "text": [
            "Epoch 1: 100%|██████████| 391/391 [00:18<00:00, 20.76it/s, train_acc=0.238, xentropy=1.371]\n"
          ]
        },
        {
          "output_type": "stream",
          "name": "stdout",
          "text": [
            "test_acc: 0.211\n",
            "Saving..\n",
            "\n",
            "Epoch: 2\n"
          ]
        },
        {
          "output_type": "stream",
          "name": "stderr",
          "text": [
            "Epoch 2: 100%|██████████| 391/391 [00:18<00:00, 20.63it/s, train_acc=0.285, xentropy=1.296]\n"
          ]
        },
        {
          "output_type": "stream",
          "name": "stdout",
          "text": [
            "test_acc: 0.282\n",
            "Saving..\n",
            "\n",
            "Epoch: 3\n"
          ]
        },
        {
          "output_type": "stream",
          "name": "stderr",
          "text": [
            "Epoch 3: 100%|██████████| 391/391 [00:18<00:00, 21.16it/s, train_acc=0.334, xentropy=1.232]\n"
          ]
        },
        {
          "output_type": "stream",
          "name": "stdout",
          "text": [
            "test_acc: 0.239\n",
            "\n",
            "Epoch: 4\n"
          ]
        },
        {
          "output_type": "stream",
          "name": "stderr",
          "text": [
            "Epoch 4: 100%|██████████| 391/391 [00:19<00:00, 20.30it/s, train_acc=0.361, xentropy=1.194]\n"
          ]
        },
        {
          "output_type": "stream",
          "name": "stdout",
          "text": [
            "test_acc: 0.311\n",
            "Saving..\n",
            "\n",
            "Epoch: 5\n"
          ]
        },
        {
          "output_type": "stream",
          "name": "stderr",
          "text": [
            "Epoch 5: 100%|██████████| 391/391 [00:18<00:00, 20.71it/s, train_acc=0.380, xentropy=1.169]\n"
          ]
        },
        {
          "output_type": "stream",
          "name": "stdout",
          "text": [
            "test_acc: 0.382\n",
            "Saving..\n",
            "\n",
            "Epoch: 6\n"
          ]
        },
        {
          "output_type": "stream",
          "name": "stderr",
          "text": [
            "Epoch 6: 100%|██████████| 391/391 [00:18<00:00, 20.63it/s, train_acc=0.398, xentropy=1.146]\n"
          ]
        },
        {
          "output_type": "stream",
          "name": "stdout",
          "text": [
            "test_acc: 0.423\n",
            "Saving..\n",
            "\n",
            "Epoch: 7\n"
          ]
        },
        {
          "output_type": "stream",
          "name": "stderr",
          "text": [
            "Epoch 7: 100%|██████████| 391/391 [00:18<00:00, 20.77it/s, train_acc=0.413, xentropy=1.125]\n"
          ]
        },
        {
          "output_type": "stream",
          "name": "stdout",
          "text": [
            "test_acc: 0.362\n",
            "\n",
            "Epoch: 8\n"
          ]
        },
        {
          "output_type": "stream",
          "name": "stderr",
          "text": [
            "Epoch 8: 100%|██████████| 391/391 [00:19<00:00, 20.31it/s, train_acc=0.421, xentropy=1.117]\n"
          ]
        },
        {
          "output_type": "stream",
          "name": "stdout",
          "text": [
            "test_acc: 0.328\n",
            "\n",
            "Epoch: 9\n"
          ]
        },
        {
          "output_type": "stream",
          "name": "stderr",
          "text": [
            "Epoch 9: 100%|██████████| 391/391 [00:19<00:00, 20.21it/s, train_acc=0.428, xentropy=1.105]\n"
          ]
        },
        {
          "output_type": "stream",
          "name": "stdout",
          "text": [
            "test_acc: 0.291\n",
            "\n",
            "Epoch: 10\n"
          ]
        },
        {
          "output_type": "stream",
          "name": "stderr",
          "text": [
            "Epoch 10: 100%|██████████| 391/391 [00:18<00:00, 20.80it/s, train_acc=0.426, xentropy=1.107]\n"
          ]
        },
        {
          "output_type": "stream",
          "name": "stdout",
          "text": [
            "test_acc: 0.313\n",
            "\n",
            "Epoch: 11\n"
          ]
        },
        {
          "output_type": "stream",
          "name": "stderr",
          "text": [
            "Epoch 11: 100%|██████████| 391/391 [00:19<00:00, 20.57it/s, train_acc=0.441, xentropy=1.087]\n"
          ]
        },
        {
          "output_type": "stream",
          "name": "stdout",
          "text": [
            "test_acc: 0.273\n",
            "\n",
            "Epoch: 12\n"
          ]
        },
        {
          "output_type": "stream",
          "name": "stderr",
          "text": [
            "Epoch 12: 100%|██████████| 391/391 [00:18<00:00, 20.58it/s, train_acc=0.450, xentropy=1.070]\n"
          ]
        },
        {
          "output_type": "stream",
          "name": "stdout",
          "text": [
            "test_acc: 0.415\n",
            "\n",
            "Epoch: 13\n"
          ]
        },
        {
          "output_type": "stream",
          "name": "stderr",
          "text": [
            "Epoch 13: 100%|██████████| 391/391 [00:19<00:00, 20.29it/s, train_acc=0.466, xentropy=1.052]\n"
          ]
        },
        {
          "output_type": "stream",
          "name": "stdout",
          "text": [
            "test_acc: 0.314\n",
            "\n",
            "Epoch: 14\n"
          ]
        },
        {
          "output_type": "stream",
          "name": "stderr",
          "text": [
            "Epoch 14: 100%|██████████| 391/391 [00:19<00:00, 20.54it/s, train_acc=0.482, xentropy=1.028]\n"
          ]
        },
        {
          "output_type": "stream",
          "name": "stdout",
          "text": [
            "test_acc: 0.377\n",
            "\n",
            "Epoch: 15\n"
          ]
        },
        {
          "output_type": "stream",
          "name": "stderr",
          "text": [
            "Epoch 15: 100%|██████████| 391/391 [00:18<00:00, 20.58it/s, train_acc=0.498, xentropy=1.005]\n"
          ]
        },
        {
          "output_type": "stream",
          "name": "stdout",
          "text": [
            "test_acc: 0.296\n",
            "\n",
            "Epoch: 16\n"
          ]
        },
        {
          "output_type": "stream",
          "name": "stderr",
          "text": [
            "Epoch 16: 100%|██████████| 391/391 [00:18<00:00, 20.68it/s, train_acc=0.515, xentropy=0.979]\n"
          ]
        },
        {
          "output_type": "stream",
          "name": "stdout",
          "text": [
            "test_acc: 0.369\n",
            "\n",
            "Epoch: 17\n"
          ]
        },
        {
          "output_type": "stream",
          "name": "stderr",
          "text": [
            "Epoch 17: 100%|██████████| 391/391 [00:19<00:00, 20.45it/s, train_acc=0.529, xentropy=0.959]\n"
          ]
        },
        {
          "output_type": "stream",
          "name": "stdout",
          "text": [
            "test_acc: 0.379\n",
            "\n",
            "Epoch: 18\n"
          ]
        },
        {
          "output_type": "stream",
          "name": "stderr",
          "text": [
            "Epoch 18: 100%|██████████| 391/391 [00:18<00:00, 20.86it/s, train_acc=0.541, xentropy=0.942]\n"
          ]
        },
        {
          "output_type": "stream",
          "name": "stdout",
          "text": [
            "test_acc: 0.344\n",
            "\n",
            "Epoch: 19\n"
          ]
        },
        {
          "output_type": "stream",
          "name": "stderr",
          "text": [
            "Epoch 19: 100%|██████████| 391/391 [00:18<00:00, 20.81it/s, train_acc=0.548, xentropy=0.928]\n"
          ]
        },
        {
          "output_type": "stream",
          "name": "stdout",
          "text": [
            "test_acc: 0.309\n",
            "\n",
            "Epoch: 20\n"
          ]
        },
        {
          "output_type": "stream",
          "name": "stderr",
          "text": [
            "Epoch 20: 100%|██████████| 391/391 [00:19<00:00, 20.57it/s, train_acc=0.556, xentropy=0.918]\n"
          ]
        },
        {
          "output_type": "stream",
          "name": "stdout",
          "text": [
            "test_acc: 0.445\n",
            "Saving..\n",
            "\n",
            "Epoch: 21\n"
          ]
        },
        {
          "output_type": "stream",
          "name": "stderr",
          "text": [
            "Epoch 21: 100%|██████████| 391/391 [00:18<00:00, 20.95it/s, train_acc=0.557, xentropy=0.916]\n"
          ]
        },
        {
          "output_type": "stream",
          "name": "stdout",
          "text": [
            "test_acc: 0.390\n",
            "\n",
            "Epoch: 22\n"
          ]
        },
        {
          "output_type": "stream",
          "name": "stderr",
          "text": [
            "Epoch 22: 100%|██████████| 391/391 [00:18<00:00, 20.79it/s, train_acc=0.562, xentropy=0.909]\n"
          ]
        },
        {
          "output_type": "stream",
          "name": "stdout",
          "text": [
            "test_acc: 0.270\n",
            "\n",
            "Epoch: 23\n"
          ]
        },
        {
          "output_type": "stream",
          "name": "stderr",
          "text": [
            "Epoch 23: 100%|██████████| 391/391 [00:18<00:00, 21.02it/s, train_acc=0.552, xentropy=0.933]\n"
          ]
        },
        {
          "output_type": "stream",
          "name": "stdout",
          "text": [
            "test_acc: 0.541\n",
            "Saving..\n",
            "\n",
            "Epoch: 24\n"
          ]
        },
        {
          "output_type": "stream",
          "name": "stderr",
          "text": [
            "Epoch 24: 100%|██████████| 391/391 [00:18<00:00, 20.73it/s, train_acc=0.554, xentropy=0.920]\n"
          ]
        },
        {
          "output_type": "stream",
          "name": "stdout",
          "text": [
            "test_acc: 0.275\n",
            "\n",
            "Epoch: 25\n"
          ]
        },
        {
          "output_type": "stream",
          "name": "stderr",
          "text": [
            "Epoch 25: 100%|██████████| 391/391 [00:18<00:00, 20.81it/s, train_acc=0.556, xentropy=0.920]\n"
          ]
        },
        {
          "output_type": "stream",
          "name": "stdout",
          "text": [
            "test_acc: 0.302\n",
            "\n",
            "Epoch: 26\n"
          ]
        },
        {
          "output_type": "stream",
          "name": "stderr",
          "text": [
            "Epoch 26: 100%|██████████| 391/391 [00:18<00:00, 20.90it/s, train_acc=0.559, xentropy=0.916]\n"
          ]
        },
        {
          "output_type": "stream",
          "name": "stdout",
          "text": [
            "test_acc: 0.215\n",
            "\n",
            "Epoch: 27\n"
          ]
        },
        {
          "output_type": "stream",
          "name": "stderr",
          "text": [
            "Epoch 27: 100%|██████████| 391/391 [00:18<00:00, 20.97it/s, train_acc=0.561, xentropy=0.918]\n"
          ]
        },
        {
          "output_type": "stream",
          "name": "stdout",
          "text": [
            "test_acc: 0.488\n",
            "\n",
            "Epoch: 28\n"
          ]
        },
        {
          "output_type": "stream",
          "name": "stderr",
          "text": [
            "Epoch 28: 100%|██████████| 391/391 [00:18<00:00, 20.76it/s, train_acc=0.559, xentropy=0.917]\n"
          ]
        },
        {
          "output_type": "stream",
          "name": "stdout",
          "text": [
            "test_acc: 0.475\n",
            "\n",
            "Epoch: 29\n"
          ]
        },
        {
          "output_type": "stream",
          "name": "stderr",
          "text": [
            "Epoch 29: 100%|██████████| 391/391 [00:18<00:00, 21.40it/s, train_acc=0.560, xentropy=0.914]\n"
          ]
        },
        {
          "output_type": "stream",
          "name": "stdout",
          "text": [
            "test_acc: 0.384\n",
            "\n",
            "Epoch: 30\n"
          ]
        },
        {
          "output_type": "stream",
          "name": "stderr",
          "text": [
            "Epoch 30: 100%|██████████| 391/391 [00:18<00:00, 20.85it/s, train_acc=0.563, xentropy=0.911]\n"
          ]
        },
        {
          "output_type": "stream",
          "name": "stdout",
          "text": [
            "test_acc: 0.286\n",
            "\n",
            "Epoch: 31\n"
          ]
        },
        {
          "output_type": "stream",
          "name": "stderr",
          "text": [
            "Epoch 31: 100%|██████████| 391/391 [00:18<00:00, 21.23it/s, train_acc=0.566, xentropy=0.904]\n"
          ]
        },
        {
          "output_type": "stream",
          "name": "stdout",
          "text": [
            "test_acc: 0.387\n",
            "\n",
            "Epoch: 32\n"
          ]
        },
        {
          "output_type": "stream",
          "name": "stderr",
          "text": [
            "Epoch 32: 100%|██████████| 391/391 [00:18<00:00, 21.02it/s, train_acc=0.566, xentropy=0.903]\n"
          ]
        },
        {
          "output_type": "stream",
          "name": "stdout",
          "text": [
            "test_acc: 0.294\n",
            "\n",
            "Epoch: 33\n"
          ]
        },
        {
          "output_type": "stream",
          "name": "stderr",
          "text": [
            "Epoch 33: 100%|██████████| 391/391 [00:18<00:00, 20.86it/s, train_acc=0.567, xentropy=0.899]\n"
          ]
        },
        {
          "output_type": "stream",
          "name": "stdout",
          "text": [
            "test_acc: 0.384\n",
            "\n",
            "Epoch: 34\n"
          ]
        },
        {
          "output_type": "stream",
          "name": "stderr",
          "text": [
            "Epoch 34: 100%|██████████| 391/391 [00:18<00:00, 20.98it/s, train_acc=0.571, xentropy=0.893]\n"
          ]
        },
        {
          "output_type": "stream",
          "name": "stdout",
          "text": [
            "test_acc: 0.378\n",
            "\n",
            "Epoch: 35\n"
          ]
        },
        {
          "output_type": "stream",
          "name": "stderr",
          "text": [
            "Epoch 35: 100%|██████████| 391/391 [00:18<00:00, 20.74it/s, train_acc=0.572, xentropy=0.891]\n"
          ]
        },
        {
          "output_type": "stream",
          "name": "stdout",
          "text": [
            "test_acc: 0.343\n",
            "\n",
            "Epoch: 36\n"
          ]
        },
        {
          "output_type": "stream",
          "name": "stderr",
          "text": [
            "Epoch 36: 100%|██████████| 391/391 [00:18<00:00, 21.14it/s, train_acc=0.575, xentropy=0.883]\n"
          ]
        },
        {
          "output_type": "stream",
          "name": "stdout",
          "text": [
            "test_acc: 0.390\n",
            "\n",
            "Epoch: 37\n"
          ]
        },
        {
          "output_type": "stream",
          "name": "stderr",
          "text": [
            "Epoch 37: 100%|██████████| 391/391 [00:18<00:00, 21.09it/s, train_acc=0.576, xentropy=0.885]\n"
          ]
        },
        {
          "output_type": "stream",
          "name": "stdout",
          "text": [
            "test_acc: 0.437\n",
            "\n",
            "Epoch: 38\n"
          ]
        },
        {
          "output_type": "stream",
          "name": "stderr",
          "text": [
            "Epoch 38: 100%|██████████| 391/391 [00:18<00:00, 20.86it/s, train_acc=0.578, xentropy=0.881]\n"
          ]
        },
        {
          "output_type": "stream",
          "name": "stdout",
          "text": [
            "test_acc: 0.391\n",
            "\n",
            "Epoch: 39\n"
          ]
        },
        {
          "output_type": "stream",
          "name": "stderr",
          "text": [
            "Epoch 39: 100%|██████████| 391/391 [00:18<00:00, 20.70it/s, train_acc=0.583, xentropy=0.875]\n"
          ]
        },
        {
          "output_type": "stream",
          "name": "stdout",
          "text": [
            "test_acc: 0.341\n",
            "\n",
            "Epoch: 40\n"
          ]
        },
        {
          "output_type": "stream",
          "name": "stderr",
          "text": [
            "Epoch 40: 100%|██████████| 391/391 [00:18<00:00, 21.34it/s, train_acc=0.623, xentropy=0.798]\n"
          ]
        },
        {
          "output_type": "stream",
          "name": "stdout",
          "text": [
            "test_acc: 0.617\n",
            "Saving..\n",
            "\n",
            "Epoch: 41\n"
          ]
        },
        {
          "output_type": "stream",
          "name": "stderr",
          "text": [
            "Epoch 41: 100%|██████████| 391/391 [00:18<00:00, 20.61it/s, train_acc=0.633, xentropy=0.780]\n"
          ]
        },
        {
          "output_type": "stream",
          "name": "stdout",
          "text": [
            "test_acc: 0.611\n",
            "\n",
            "Epoch: 42\n"
          ]
        },
        {
          "output_type": "stream",
          "name": "stderr",
          "text": [
            "Epoch 42: 100%|██████████| 391/391 [00:18<00:00, 21.03it/s, train_acc=0.638, xentropy=0.773]\n"
          ]
        },
        {
          "output_type": "stream",
          "name": "stdout",
          "text": [
            "test_acc: 0.648\n",
            "Saving..\n",
            "\n",
            "Epoch: 43\n"
          ]
        },
        {
          "output_type": "stream",
          "name": "stderr",
          "text": [
            "Epoch 43: 100%|██████████| 391/391 [00:18<00:00, 21.07it/s, train_acc=0.636, xentropy=0.769]\n"
          ]
        },
        {
          "output_type": "stream",
          "name": "stdout",
          "text": [
            "test_acc: 0.617\n",
            "\n",
            "Epoch: 44\n"
          ]
        },
        {
          "output_type": "stream",
          "name": "stderr",
          "text": [
            "Epoch 44: 100%|██████████| 391/391 [00:18<00:00, 21.08it/s, train_acc=0.637, xentropy=0.768]\n"
          ]
        },
        {
          "output_type": "stream",
          "name": "stdout",
          "text": [
            "test_acc: 0.575\n",
            "\n",
            "Epoch: 45\n"
          ]
        },
        {
          "output_type": "stream",
          "name": "stderr",
          "text": [
            "Epoch 45: 100%|██████████| 391/391 [00:18<00:00, 20.63it/s, train_acc=0.638, xentropy=0.767]\n"
          ]
        },
        {
          "output_type": "stream",
          "name": "stdout",
          "text": [
            "test_acc: 0.589\n",
            "\n",
            "Epoch: 46\n"
          ]
        },
        {
          "output_type": "stream",
          "name": "stderr",
          "text": [
            "Epoch 46: 100%|██████████| 391/391 [00:18<00:00, 20.92it/s, train_acc=0.641, xentropy=0.764]\n"
          ]
        },
        {
          "output_type": "stream",
          "name": "stdout",
          "text": [
            "test_acc: 0.539\n",
            "\n",
            "Epoch: 47\n"
          ]
        },
        {
          "output_type": "stream",
          "name": "stderr",
          "text": [
            "Epoch 47: 100%|██████████| 391/391 [00:18<00:00, 21.22it/s, train_acc=0.640, xentropy=0.763]\n"
          ]
        },
        {
          "output_type": "stream",
          "name": "stdout",
          "text": [
            "test_acc: 0.617\n",
            "\n",
            "Epoch: 48\n"
          ]
        },
        {
          "output_type": "stream",
          "name": "stderr",
          "text": [
            "Epoch 48: 100%|██████████| 391/391 [00:18<00:00, 21.09it/s, train_acc=0.640, xentropy=0.762]\n"
          ]
        },
        {
          "output_type": "stream",
          "name": "stdout",
          "text": [
            "test_acc: 0.537\n",
            "\n",
            "Epoch: 49\n"
          ]
        },
        {
          "output_type": "stream",
          "name": "stderr",
          "text": [
            "Epoch 49: 100%|██████████| 391/391 [00:18<00:00, 21.12it/s, train_acc=0.641, xentropy=0.758]\n"
          ]
        },
        {
          "output_type": "stream",
          "name": "stdout",
          "text": [
            "test_acc: 0.557\n",
            "\n",
            "Epoch: 50\n"
          ]
        },
        {
          "output_type": "stream",
          "name": "stderr",
          "text": [
            "Epoch 50: 100%|██████████| 391/391 [00:18<00:00, 20.85it/s, train_acc=0.642, xentropy=0.760]\n"
          ]
        },
        {
          "output_type": "stream",
          "name": "stdout",
          "text": [
            "test_acc: 0.629\n",
            "\n",
            "Epoch: 51\n"
          ]
        },
        {
          "output_type": "stream",
          "name": "stderr",
          "text": [
            "Epoch 51: 100%|██████████| 391/391 [00:18<00:00, 21.43it/s, train_acc=0.641, xentropy=0.758]\n"
          ]
        },
        {
          "output_type": "stream",
          "name": "stdout",
          "text": [
            "test_acc: 0.614\n",
            "\n",
            "Epoch: 52\n"
          ]
        },
        {
          "output_type": "stream",
          "name": "stderr",
          "text": [
            "Epoch 52: 100%|██████████| 391/391 [00:18<00:00, 20.64it/s, train_acc=0.642, xentropy=0.759]\n"
          ]
        },
        {
          "output_type": "stream",
          "name": "stdout",
          "text": [
            "test_acc: 0.561\n",
            "\n",
            "Epoch: 53\n"
          ]
        },
        {
          "output_type": "stream",
          "name": "stderr",
          "text": [
            "Epoch 53: 100%|██████████| 391/391 [00:18<00:00, 21.16it/s, train_acc=0.643, xentropy=0.756]\n"
          ]
        },
        {
          "output_type": "stream",
          "name": "stdout",
          "text": [
            "test_acc: 0.536\n",
            "\n",
            "Epoch: 54\n"
          ]
        },
        {
          "output_type": "stream",
          "name": "stderr",
          "text": [
            "Epoch 54: 100%|██████████| 391/391 [00:18<00:00, 21.17it/s, train_acc=0.644, xentropy=0.757]\n"
          ]
        },
        {
          "output_type": "stream",
          "name": "stdout",
          "text": [
            "test_acc: 0.577\n",
            "\n",
            "Epoch: 55\n"
          ]
        },
        {
          "output_type": "stream",
          "name": "stderr",
          "text": [
            "Epoch 55: 100%|██████████| 391/391 [00:18<00:00, 21.16it/s, train_acc=0.645, xentropy=0.756]\n"
          ]
        },
        {
          "output_type": "stream",
          "name": "stdout",
          "text": [
            "test_acc: 0.553\n",
            "\n",
            "Epoch: 56\n"
          ]
        },
        {
          "output_type": "stream",
          "name": "stderr",
          "text": [
            "Epoch 56: 100%|██████████| 391/391 [00:19<00:00, 20.44it/s, train_acc=0.645, xentropy=0.755]\n"
          ]
        },
        {
          "output_type": "stream",
          "name": "stdout",
          "text": [
            "test_acc: 0.620\n",
            "\n",
            "Epoch: 57\n"
          ]
        },
        {
          "output_type": "stream",
          "name": "stderr",
          "text": [
            "Epoch 57: 100%|██████████| 391/391 [00:18<00:00, 21.16it/s, train_acc=0.644, xentropy=0.751]\n"
          ]
        },
        {
          "output_type": "stream",
          "name": "stdout",
          "text": [
            "test_acc: 0.566\n",
            "\n",
            "Epoch: 58\n"
          ]
        },
        {
          "output_type": "stream",
          "name": "stderr",
          "text": [
            "Epoch 58: 100%|██████████| 391/391 [00:19<00:00, 20.51it/s, train_acc=0.648, xentropy=0.750]\n"
          ]
        },
        {
          "output_type": "stream",
          "name": "stdout",
          "text": [
            "test_acc: 0.492\n",
            "\n",
            "Epoch: 59\n"
          ]
        },
        {
          "output_type": "stream",
          "name": "stderr",
          "text": [
            "Epoch 59: 100%|██████████| 391/391 [00:18<00:00, 21.23it/s, train_acc=0.645, xentropy=0.753]\n"
          ]
        },
        {
          "output_type": "stream",
          "name": "stdout",
          "text": [
            "test_acc: 0.598\n",
            "\n",
            "Epoch: 60\n"
          ]
        },
        {
          "output_type": "stream",
          "name": "stderr",
          "text": [
            "Epoch 60: 100%|██████████| 391/391 [00:18<00:00, 20.85it/s, train_acc=0.648, xentropy=0.748]\n"
          ]
        },
        {
          "output_type": "stream",
          "name": "stdout",
          "text": [
            "test_acc: 0.583\n",
            "\n",
            "Epoch: 61\n"
          ]
        },
        {
          "output_type": "stream",
          "name": "stderr",
          "text": [
            "Epoch 61: 100%|██████████| 391/391 [00:18<00:00, 21.28it/s, train_acc=0.648, xentropy=0.746]\n"
          ]
        },
        {
          "output_type": "stream",
          "name": "stdout",
          "text": [
            "test_acc: 0.424\n",
            "\n",
            "Epoch: 62\n"
          ]
        },
        {
          "output_type": "stream",
          "name": "stderr",
          "text": [
            "Epoch 62: 100%|██████████| 391/391 [00:18<00:00, 20.98it/s, train_acc=0.647, xentropy=0.748]\n"
          ]
        },
        {
          "output_type": "stream",
          "name": "stdout",
          "text": [
            "test_acc: 0.644\n",
            "\n",
            "Epoch: 63\n"
          ]
        },
        {
          "output_type": "stream",
          "name": "stderr",
          "text": [
            "Epoch 63: 100%|██████████| 391/391 [00:18<00:00, 21.15it/s, train_acc=0.647, xentropy=0.749]\n"
          ]
        },
        {
          "output_type": "stream",
          "name": "stdout",
          "text": [
            "test_acc: 0.571\n",
            "\n",
            "Epoch: 64\n"
          ]
        },
        {
          "output_type": "stream",
          "name": "stderr",
          "text": [
            "Epoch 64: 100%|██████████| 391/391 [00:18<00:00, 21.05it/s, train_acc=0.650, xentropy=0.745]\n"
          ]
        },
        {
          "output_type": "stream",
          "name": "stdout",
          "text": [
            "test_acc: 0.590\n",
            "\n",
            "Epoch: 65\n"
          ]
        },
        {
          "output_type": "stream",
          "name": "stderr",
          "text": [
            "Epoch 65: 100%|██████████| 391/391 [00:18<00:00, 21.19it/s, train_acc=0.649, xentropy=0.742]\n"
          ]
        },
        {
          "output_type": "stream",
          "name": "stdout",
          "text": [
            "test_acc: 0.516\n",
            "\n",
            "Epoch: 66\n"
          ]
        },
        {
          "output_type": "stream",
          "name": "stderr",
          "text": [
            "Epoch 66: 100%|██████████| 391/391 [00:18<00:00, 21.01it/s, train_acc=0.650, xentropy=0.743]\n"
          ]
        },
        {
          "output_type": "stream",
          "name": "stdout",
          "text": [
            "test_acc: 0.552\n",
            "\n",
            "Epoch: 67\n"
          ]
        },
        {
          "output_type": "stream",
          "name": "stderr",
          "text": [
            "Epoch 67: 100%|██████████| 391/391 [00:18<00:00, 21.18it/s, train_acc=0.651, xentropy=0.740]\n"
          ]
        },
        {
          "output_type": "stream",
          "name": "stdout",
          "text": [
            "test_acc: 0.585\n",
            "\n",
            "Epoch: 68\n"
          ]
        },
        {
          "output_type": "stream",
          "name": "stderr",
          "text": [
            "Epoch 68: 100%|██████████| 391/391 [00:18<00:00, 21.03it/s, train_acc=0.650, xentropy=0.743]\n"
          ]
        },
        {
          "output_type": "stream",
          "name": "stdout",
          "text": [
            "test_acc: 0.514\n",
            "\n",
            "Epoch: 69\n"
          ]
        },
        {
          "output_type": "stream",
          "name": "stderr",
          "text": [
            "Epoch 69: 100%|██████████| 391/391 [00:18<00:00, 21.51it/s, train_acc=0.651, xentropy=0.742]\n"
          ]
        },
        {
          "output_type": "stream",
          "name": "stdout",
          "text": [
            "test_acc: 0.539\n",
            "\n",
            "Epoch: 70\n"
          ]
        },
        {
          "output_type": "stream",
          "name": "stderr",
          "text": [
            "Epoch 70: 100%|██████████| 391/391 [00:18<00:00, 20.86it/s, train_acc=0.651, xentropy=0.737]\n"
          ]
        },
        {
          "output_type": "stream",
          "name": "stdout",
          "text": [
            "test_acc: 0.468\n",
            "\n",
            "Epoch: 71\n"
          ]
        },
        {
          "output_type": "stream",
          "name": "stderr",
          "text": [
            "Epoch 71: 100%|██████████| 391/391 [00:18<00:00, 21.49it/s, train_acc=0.650, xentropy=0.741]\n"
          ]
        },
        {
          "output_type": "stream",
          "name": "stdout",
          "text": [
            "test_acc: 0.598\n",
            "\n",
            "Epoch: 72\n"
          ]
        },
        {
          "output_type": "stream",
          "name": "stderr",
          "text": [
            "Epoch 72: 100%|██████████| 391/391 [00:18<00:00, 21.10it/s, train_acc=0.652, xentropy=0.737]\n"
          ]
        },
        {
          "output_type": "stream",
          "name": "stdout",
          "text": [
            "test_acc: 0.607\n",
            "\n",
            "Epoch: 73\n"
          ]
        },
        {
          "output_type": "stream",
          "name": "stderr",
          "text": [
            "Epoch 73: 100%|██████████| 391/391 [00:18<00:00, 21.17it/s, train_acc=0.654, xentropy=0.737]\n"
          ]
        },
        {
          "output_type": "stream",
          "name": "stdout",
          "text": [
            "test_acc: 0.564\n",
            "\n",
            "Epoch: 74\n"
          ]
        },
        {
          "output_type": "stream",
          "name": "stderr",
          "text": [
            "Epoch 74: 100%|██████████| 391/391 [00:18<00:00, 21.14it/s, train_acc=0.654, xentropy=0.740]\n"
          ]
        },
        {
          "output_type": "stream",
          "name": "stdout",
          "text": [
            "test_acc: 0.600\n",
            "\n",
            "Epoch: 75\n"
          ]
        },
        {
          "output_type": "stream",
          "name": "stderr",
          "text": [
            "Epoch 75: 100%|██████████| 391/391 [00:18<00:00, 21.30it/s, train_acc=0.651, xentropy=0.737]\n"
          ]
        },
        {
          "output_type": "stream",
          "name": "stdout",
          "text": [
            "test_acc: 0.656\n",
            "Saving..\n",
            "\n",
            "Epoch: 76\n"
          ]
        },
        {
          "output_type": "stream",
          "name": "stderr",
          "text": [
            "Epoch 76: 100%|██████████| 391/391 [00:18<00:00, 20.89it/s, train_acc=0.652, xentropy=0.738]\n"
          ]
        },
        {
          "output_type": "stream",
          "name": "stdout",
          "text": [
            "test_acc: 0.634\n",
            "\n",
            "Epoch: 77\n"
          ]
        },
        {
          "output_type": "stream",
          "name": "stderr",
          "text": [
            "Epoch 77: 100%|██████████| 391/391 [00:18<00:00, 20.92it/s, train_acc=0.651, xentropy=0.741]\n"
          ]
        },
        {
          "output_type": "stream",
          "name": "stdout",
          "text": [
            "test_acc: 0.380\n",
            "\n",
            "Epoch: 78\n"
          ]
        },
        {
          "output_type": "stream",
          "name": "stderr",
          "text": [
            "Epoch 78: 100%|██████████| 391/391 [00:18<00:00, 20.96it/s, train_acc=0.655, xentropy=0.736]\n"
          ]
        },
        {
          "output_type": "stream",
          "name": "stdout",
          "text": [
            "test_acc: 0.613\n",
            "\n",
            "Epoch: 79\n"
          ]
        },
        {
          "output_type": "stream",
          "name": "stderr",
          "text": [
            "Epoch 79: 100%|██████████| 391/391 [00:18<00:00, 20.84it/s, train_acc=0.654, xentropy=0.736]\n"
          ]
        },
        {
          "output_type": "stream",
          "name": "stdout",
          "text": [
            "test_acc: 0.610\n",
            "\n",
            "Epoch: 80\n"
          ]
        },
        {
          "output_type": "stream",
          "name": "stderr",
          "text": [
            "Epoch 80: 100%|██████████| 391/391 [00:18<00:00, 21.21it/s, train_acc=0.673, xentropy=0.697]\n"
          ]
        },
        {
          "output_type": "stream",
          "name": "stdout",
          "text": [
            "test_acc: 0.647\n",
            "\n",
            "Epoch: 81\n"
          ]
        },
        {
          "output_type": "stream",
          "name": "stderr",
          "text": [
            "Epoch 81: 100%|██████████| 391/391 [00:18<00:00, 20.86it/s, train_acc=0.677, xentropy=0.689]\n"
          ]
        },
        {
          "output_type": "stream",
          "name": "stdout",
          "text": [
            "test_acc: 0.659\n",
            "Saving..\n",
            "\n",
            "Epoch: 82\n"
          ]
        },
        {
          "output_type": "stream",
          "name": "stderr",
          "text": [
            "Epoch 82: 100%|██████████| 391/391 [00:18<00:00, 21.20it/s, train_acc=0.675, xentropy=0.692]\n"
          ]
        },
        {
          "output_type": "stream",
          "name": "stdout",
          "text": [
            "test_acc: 0.648\n",
            "\n",
            "Epoch: 83\n"
          ]
        },
        {
          "output_type": "stream",
          "name": "stderr",
          "text": [
            "Epoch 83: 100%|██████████| 391/391 [00:18<00:00, 21.00it/s, train_acc=0.676, xentropy=0.691]\n"
          ]
        },
        {
          "output_type": "stream",
          "name": "stdout",
          "text": [
            "test_acc: 0.607\n",
            "\n",
            "Epoch: 84\n"
          ]
        },
        {
          "output_type": "stream",
          "name": "stderr",
          "text": [
            "Epoch 84: 100%|██████████| 391/391 [00:18<00:00, 21.28it/s, train_acc=0.676, xentropy=0.690]\n"
          ]
        },
        {
          "output_type": "stream",
          "name": "stdout",
          "text": [
            "test_acc: 0.661\n",
            "Saving..\n",
            "\n",
            "Epoch: 85\n"
          ]
        },
        {
          "output_type": "stream",
          "name": "stderr",
          "text": [
            "Epoch 85: 100%|██████████| 391/391 [00:18<00:00, 20.98it/s, train_acc=0.674, xentropy=0.691]\n"
          ]
        },
        {
          "output_type": "stream",
          "name": "stdout",
          "text": [
            "test_acc: 0.623\n",
            "\n",
            "Epoch: 86\n"
          ]
        },
        {
          "output_type": "stream",
          "name": "stderr",
          "text": [
            "Epoch 86: 100%|██████████| 391/391 [00:18<00:00, 21.08it/s, train_acc=0.679, xentropy=0.688]\n"
          ]
        },
        {
          "output_type": "stream",
          "name": "stdout",
          "text": [
            "test_acc: 0.671\n",
            "Saving..\n",
            "\n",
            "Epoch: 87\n"
          ]
        },
        {
          "output_type": "stream",
          "name": "stderr",
          "text": [
            "Epoch 87: 100%|██████████| 391/391 [00:18<00:00, 20.90it/s, train_acc=0.679, xentropy=0.688]\n"
          ]
        },
        {
          "output_type": "stream",
          "name": "stdout",
          "text": [
            "test_acc: 0.681\n",
            "Saving..\n",
            "\n",
            "Epoch: 88\n"
          ]
        },
        {
          "output_type": "stream",
          "name": "stderr",
          "text": [
            "Epoch 88: 100%|██████████| 391/391 [00:18<00:00, 21.08it/s, train_acc=0.679, xentropy=0.690]\n"
          ]
        },
        {
          "output_type": "stream",
          "name": "stdout",
          "text": [
            "test_acc: 0.633\n",
            "\n",
            "Epoch: 89\n"
          ]
        },
        {
          "output_type": "stream",
          "name": "stderr",
          "text": [
            "Epoch 89: 100%|██████████| 391/391 [00:18<00:00, 20.96it/s, train_acc=0.675, xentropy=0.691]\n"
          ]
        },
        {
          "output_type": "stream",
          "name": "stdout",
          "text": [
            "test_acc: 0.571\n",
            "\n",
            "Epoch: 90\n"
          ]
        },
        {
          "output_type": "stream",
          "name": "stderr",
          "text": [
            "Epoch 90: 100%|██████████| 391/391 [00:18<00:00, 21.05it/s, train_acc=0.676, xentropy=0.693]\n"
          ]
        },
        {
          "output_type": "stream",
          "name": "stdout",
          "text": [
            "test_acc: 0.680\n",
            "\n",
            "Epoch: 91\n"
          ]
        },
        {
          "output_type": "stream",
          "name": "stderr",
          "text": [
            "Epoch 91: 100%|██████████| 391/391 [00:18<00:00, 20.88it/s, train_acc=0.676, xentropy=0.689]\n"
          ]
        },
        {
          "output_type": "stream",
          "name": "stdout",
          "text": [
            "test_acc: 0.619\n",
            "\n",
            "Epoch: 92\n"
          ]
        },
        {
          "output_type": "stream",
          "name": "stderr",
          "text": [
            "Epoch 92: 100%|██████████| 391/391 [00:18<00:00, 21.32it/s, train_acc=0.673, xentropy=0.693]\n"
          ]
        },
        {
          "output_type": "stream",
          "name": "stdout",
          "text": [
            "test_acc: 0.642\n",
            "\n",
            "Epoch: 93\n"
          ]
        },
        {
          "output_type": "stream",
          "name": "stderr",
          "text": [
            "Epoch 93: 100%|██████████| 391/391 [00:18<00:00, 21.00it/s, train_acc=0.675, xentropy=0.692]\n"
          ]
        },
        {
          "output_type": "stream",
          "name": "stdout",
          "text": [
            "test_acc: 0.657\n",
            "\n",
            "Epoch: 94\n"
          ]
        },
        {
          "output_type": "stream",
          "name": "stderr",
          "text": [
            "Epoch 94: 100%|██████████| 391/391 [00:18<00:00, 21.12it/s, train_acc=0.677, xentropy=0.693]\n"
          ]
        },
        {
          "output_type": "stream",
          "name": "stdout",
          "text": [
            "test_acc: 0.625\n",
            "\n",
            "Epoch: 95\n"
          ]
        },
        {
          "output_type": "stream",
          "name": "stderr",
          "text": [
            "Epoch 95: 100%|██████████| 391/391 [00:18<00:00, 20.98it/s, train_acc=0.677, xentropy=0.691]\n"
          ]
        },
        {
          "output_type": "stream",
          "name": "stdout",
          "text": [
            "test_acc: 0.549\n",
            "\n",
            "Epoch: 96\n"
          ]
        },
        {
          "output_type": "stream",
          "name": "stderr",
          "text": [
            "Epoch 96: 100%|██████████| 391/391 [00:18<00:00, 21.51it/s, train_acc=0.676, xentropy=0.691]\n"
          ]
        },
        {
          "output_type": "stream",
          "name": "stdout",
          "text": [
            "test_acc: 0.638\n",
            "\n",
            "Epoch: 97\n"
          ]
        },
        {
          "output_type": "stream",
          "name": "stderr",
          "text": [
            "Epoch 97: 100%|██████████| 391/391 [00:18<00:00, 21.19it/s, train_acc=0.678, xentropy=0.691]\n"
          ]
        },
        {
          "output_type": "stream",
          "name": "stdout",
          "text": [
            "test_acc: 0.629\n",
            "\n",
            "Epoch: 98\n"
          ]
        },
        {
          "output_type": "stream",
          "name": "stderr",
          "text": [
            "Epoch 98: 100%|██████████| 391/391 [00:18<00:00, 21.06it/s, train_acc=0.674, xentropy=0.693]\n"
          ]
        },
        {
          "output_type": "stream",
          "name": "stdout",
          "text": [
            "test_acc: 0.678\n",
            "\n",
            "Epoch: 99\n"
          ]
        },
        {
          "output_type": "stream",
          "name": "stderr",
          "text": [
            "Epoch 99: 100%|██████████| 391/391 [00:18<00:00, 20.60it/s, train_acc=0.677, xentropy=0.691]\n"
          ]
        },
        {
          "output_type": "stream",
          "name": "stdout",
          "text": [
            "test_acc: 0.604\n",
            "\n",
            "Epoch: 100\n"
          ]
        },
        {
          "output_type": "stream",
          "name": "stderr",
          "text": [
            "Epoch 100: 100%|██████████| 391/391 [00:19<00:00, 20.50it/s, train_acc=0.678, xentropy=0.691]\n"
          ]
        },
        {
          "output_type": "stream",
          "name": "stdout",
          "text": [
            "test_acc: 0.598\n",
            "\n",
            "Epoch: 101\n"
          ]
        },
        {
          "output_type": "stream",
          "name": "stderr",
          "text": [
            "Epoch 101: 100%|██████████| 391/391 [00:18<00:00, 21.13it/s, train_acc=0.675, xentropy=0.694]\n"
          ]
        },
        {
          "output_type": "stream",
          "name": "stdout",
          "text": [
            "test_acc: 0.635\n",
            "\n",
            "Epoch: 102\n"
          ]
        },
        {
          "output_type": "stream",
          "name": "stderr",
          "text": [
            "Epoch 102: 100%|██████████| 391/391 [00:18<00:00, 20.84it/s, train_acc=0.672, xentropy=0.696]\n"
          ]
        },
        {
          "output_type": "stream",
          "name": "stdout",
          "text": [
            "test_acc: 0.589\n",
            "\n",
            "Epoch: 103\n"
          ]
        },
        {
          "output_type": "stream",
          "name": "stderr",
          "text": [
            "Epoch 103: 100%|██████████| 391/391 [00:18<00:00, 21.13it/s, train_acc=0.675, xentropy=0.693]\n"
          ]
        },
        {
          "output_type": "stream",
          "name": "stdout",
          "text": [
            "test_acc: 0.577\n",
            "\n",
            "Epoch: 104\n"
          ]
        },
        {
          "output_type": "stream",
          "name": "stderr",
          "text": [
            "Epoch 104: 100%|██████████| 391/391 [00:18<00:00, 20.76it/s, train_acc=0.678, xentropy=0.691]\n"
          ]
        },
        {
          "output_type": "stream",
          "name": "stdout",
          "text": [
            "test_acc: 0.540\n",
            "\n",
            "Epoch: 105\n"
          ]
        },
        {
          "output_type": "stream",
          "name": "stderr",
          "text": [
            "Epoch 105: 100%|██████████| 391/391 [00:18<00:00, 20.95it/s, train_acc=0.677, xentropy=0.690]\n"
          ]
        },
        {
          "output_type": "stream",
          "name": "stdout",
          "text": [
            "test_acc: 0.647\n",
            "\n",
            "Epoch: 106\n"
          ]
        },
        {
          "output_type": "stream",
          "name": "stderr",
          "text": [
            "Epoch 106: 100%|██████████| 391/391 [00:19<00:00, 20.45it/s, train_acc=0.677, xentropy=0.691]\n"
          ]
        },
        {
          "output_type": "stream",
          "name": "stdout",
          "text": [
            "test_acc: 0.585\n",
            "\n",
            "Epoch: 107\n"
          ]
        },
        {
          "output_type": "stream",
          "name": "stderr",
          "text": [
            "Epoch 107: 100%|██████████| 391/391 [00:18<00:00, 21.04it/s, train_acc=0.677, xentropy=0.692]\n"
          ]
        },
        {
          "output_type": "stream",
          "name": "stdout",
          "text": [
            "test_acc: 0.642\n",
            "\n",
            "Epoch: 108\n"
          ]
        },
        {
          "output_type": "stream",
          "name": "stderr",
          "text": [
            "Epoch 108: 100%|██████████| 391/391 [00:18<00:00, 20.74it/s, train_acc=0.673, xentropy=0.691]\n"
          ]
        },
        {
          "output_type": "stream",
          "name": "stdout",
          "text": [
            "test_acc: 0.576\n",
            "\n",
            "Epoch: 109\n"
          ]
        },
        {
          "output_type": "stream",
          "name": "stderr",
          "text": [
            "Epoch 109: 100%|██████████| 391/391 [00:18<00:00, 21.18it/s, train_acc=0.678, xentropy=0.690]\n"
          ]
        },
        {
          "output_type": "stream",
          "name": "stdout",
          "text": [
            "test_acc: 0.625\n",
            "\n",
            "Epoch: 110\n"
          ]
        },
        {
          "output_type": "stream",
          "name": "stderr",
          "text": [
            "Epoch 110: 100%|██████████| 391/391 [00:18<00:00, 20.85it/s, train_acc=0.677, xentropy=0.691]\n"
          ]
        },
        {
          "output_type": "stream",
          "name": "stdout",
          "text": [
            "test_acc: 0.642\n",
            "\n",
            "Epoch: 111\n"
          ]
        },
        {
          "output_type": "stream",
          "name": "stderr",
          "text": [
            "Epoch 111: 100%|██████████| 391/391 [00:18<00:00, 20.70it/s, train_acc=0.677, xentropy=0.691]\n"
          ]
        },
        {
          "output_type": "stream",
          "name": "stdout",
          "text": [
            "test_acc: 0.601\n",
            "\n",
            "Epoch: 112\n"
          ]
        },
        {
          "output_type": "stream",
          "name": "stderr",
          "text": [
            "Epoch 112: 100%|██████████| 391/391 [00:18<00:00, 20.97it/s, train_acc=0.678, xentropy=0.691]\n"
          ]
        },
        {
          "output_type": "stream",
          "name": "stdout",
          "text": [
            "test_acc: 0.590\n",
            "\n",
            "Epoch: 113\n"
          ]
        },
        {
          "output_type": "stream",
          "name": "stderr",
          "text": [
            "Epoch 113: 100%|██████████| 391/391 [00:18<00:00, 21.07it/s, train_acc=0.675, xentropy=0.691]\n"
          ]
        },
        {
          "output_type": "stream",
          "name": "stdout",
          "text": [
            "test_acc: 0.645\n",
            "\n",
            "Epoch: 114\n"
          ]
        },
        {
          "output_type": "stream",
          "name": "stderr",
          "text": [
            "Epoch 114: 100%|██████████| 391/391 [00:18<00:00, 21.06it/s, train_acc=0.677, xentropy=0.688]\n"
          ]
        },
        {
          "output_type": "stream",
          "name": "stdout",
          "text": [
            "test_acc: 0.597\n",
            "\n",
            "Epoch: 115\n"
          ]
        },
        {
          "output_type": "stream",
          "name": "stderr",
          "text": [
            "Epoch 115: 100%|██████████| 391/391 [00:18<00:00, 21.06it/s, train_acc=0.677, xentropy=0.691]\n"
          ]
        },
        {
          "output_type": "stream",
          "name": "stdout",
          "text": [
            "test_acc: 0.602\n",
            "\n",
            "Epoch: 116\n"
          ]
        },
        {
          "output_type": "stream",
          "name": "stderr",
          "text": [
            "Epoch 116: 100%|██████████| 391/391 [00:18<00:00, 20.83it/s, train_acc=0.674, xentropy=0.693]\n"
          ]
        },
        {
          "output_type": "stream",
          "name": "stdout",
          "text": [
            "test_acc: 0.644\n",
            "\n",
            "Epoch: 117\n"
          ]
        },
        {
          "output_type": "stream",
          "name": "stderr",
          "text": [
            "Epoch 117: 100%|██████████| 391/391 [00:18<00:00, 20.81it/s, train_acc=0.676, xentropy=0.690]\n"
          ]
        },
        {
          "output_type": "stream",
          "name": "stdout",
          "text": [
            "test_acc: 0.616\n",
            "\n",
            "Epoch: 118\n"
          ]
        },
        {
          "output_type": "stream",
          "name": "stderr",
          "text": [
            "Epoch 118: 100%|██████████| 391/391 [00:18<00:00, 20.89it/s, train_acc=0.674, xentropy=0.694]\n"
          ]
        },
        {
          "output_type": "stream",
          "name": "stdout",
          "text": [
            "test_acc: 0.644\n",
            "\n",
            "Epoch: 119\n"
          ]
        },
        {
          "output_type": "stream",
          "name": "stderr",
          "text": [
            "Epoch 119: 100%|██████████| 391/391 [00:18<00:00, 20.89it/s, train_acc=0.676, xentropy=0.690]\n"
          ]
        },
        {
          "output_type": "stream",
          "name": "stdout",
          "text": [
            "test_acc: 0.621\n",
            "\n",
            "Epoch: 120\n"
          ]
        },
        {
          "output_type": "stream",
          "name": "stderr",
          "text": [
            "Epoch 120: 100%|██████████| 391/391 [00:18<00:00, 21.11it/s, train_acc=0.685, xentropy=0.671]\n"
          ]
        },
        {
          "output_type": "stream",
          "name": "stdout",
          "text": [
            "test_acc: 0.693\n",
            "Saving..\n",
            "\n",
            "Epoch: 121\n"
          ]
        },
        {
          "output_type": "stream",
          "name": "stderr",
          "text": [
            "Epoch 121: 100%|██████████| 391/391 [00:18<00:00, 20.61it/s, train_acc=0.687, xentropy=0.671]\n"
          ]
        },
        {
          "output_type": "stream",
          "name": "stdout",
          "text": [
            "test_acc: 0.666\n",
            "\n",
            "Epoch: 122\n"
          ]
        },
        {
          "output_type": "stream",
          "name": "stderr",
          "text": [
            "Epoch 122: 100%|██████████| 391/391 [00:18<00:00, 21.52it/s, train_acc=0.687, xentropy=0.669]\n"
          ]
        },
        {
          "output_type": "stream",
          "name": "stdout",
          "text": [
            "test_acc: 0.676\n",
            "\n",
            "Epoch: 123\n"
          ]
        },
        {
          "output_type": "stream",
          "name": "stderr",
          "text": [
            "Epoch 123: 100%|██████████| 391/391 [00:18<00:00, 21.05it/s, train_acc=0.687, xentropy=0.670]\n"
          ]
        },
        {
          "output_type": "stream",
          "name": "stdout",
          "text": [
            "test_acc: 0.598\n",
            "\n",
            "Epoch: 124\n"
          ]
        },
        {
          "output_type": "stream",
          "name": "stderr",
          "text": [
            "Epoch 124: 100%|██████████| 391/391 [00:18<00:00, 21.17it/s, train_acc=0.687, xentropy=0.673]\n"
          ]
        },
        {
          "output_type": "stream",
          "name": "stdout",
          "text": [
            "test_acc: 0.675\n",
            "\n",
            "Epoch: 125\n"
          ]
        },
        {
          "output_type": "stream",
          "name": "stderr",
          "text": [
            "Epoch 125: 100%|██████████| 391/391 [00:18<00:00, 20.95it/s, train_acc=0.686, xentropy=0.671]\n"
          ]
        },
        {
          "output_type": "stream",
          "name": "stdout",
          "text": [
            "test_acc: 0.658\n",
            "\n",
            "Epoch: 126\n"
          ]
        },
        {
          "output_type": "stream",
          "name": "stderr",
          "text": [
            "Epoch 126: 100%|██████████| 391/391 [00:18<00:00, 21.08it/s, train_acc=0.686, xentropy=0.671]\n"
          ]
        },
        {
          "output_type": "stream",
          "name": "stdout",
          "text": [
            "test_acc: 0.655\n",
            "\n",
            "Epoch: 127\n"
          ]
        },
        {
          "output_type": "stream",
          "name": "stderr",
          "text": [
            "Epoch 127: 100%|██████████| 391/391 [00:18<00:00, 20.93it/s, train_acc=0.683, xentropy=0.676]\n"
          ]
        },
        {
          "output_type": "stream",
          "name": "stdout",
          "text": [
            "test_acc: 0.655\n",
            "\n",
            "Epoch: 128\n"
          ]
        },
        {
          "output_type": "stream",
          "name": "stderr",
          "text": [
            "Epoch 128: 100%|██████████| 391/391 [00:18<00:00, 21.34it/s, train_acc=0.684, xentropy=0.673]\n"
          ]
        },
        {
          "output_type": "stream",
          "name": "stdout",
          "text": [
            "test_acc: 0.651\n",
            "\n",
            "Epoch: 129\n"
          ]
        },
        {
          "output_type": "stream",
          "name": "stderr",
          "text": [
            "Epoch 129: 100%|██████████| 391/391 [00:18<00:00, 20.75it/s, train_acc=0.685, xentropy=0.672]\n"
          ]
        },
        {
          "output_type": "stream",
          "name": "stdout",
          "text": [
            "test_acc: 0.664\n",
            "\n",
            "Epoch: 130\n"
          ]
        },
        {
          "output_type": "stream",
          "name": "stderr",
          "text": [
            "Epoch 130: 100%|██████████| 391/391 [00:18<00:00, 21.03it/s, train_acc=0.684, xentropy=0.675]\n"
          ]
        },
        {
          "output_type": "stream",
          "name": "stdout",
          "text": [
            "test_acc: 0.670\n",
            "\n",
            "Epoch: 131\n"
          ]
        },
        {
          "output_type": "stream",
          "name": "stderr",
          "text": [
            "Epoch 131: 100%|██████████| 391/391 [00:19<00:00, 20.06it/s, train_acc=0.684, xentropy=0.677]\n"
          ]
        },
        {
          "output_type": "stream",
          "name": "stdout",
          "text": [
            "test_acc: 0.619\n",
            "\n",
            "Epoch: 132\n"
          ]
        },
        {
          "output_type": "stream",
          "name": "stderr",
          "text": [
            "Epoch 132: 100%|██████████| 391/391 [00:19<00:00, 19.97it/s, train_acc=0.685, xentropy=0.677]\n"
          ]
        },
        {
          "output_type": "stream",
          "name": "stdout",
          "text": [
            "test_acc: 0.667\n",
            "\n",
            "Epoch: 133\n"
          ]
        },
        {
          "output_type": "stream",
          "name": "stderr",
          "text": [
            "Epoch 133: 100%|██████████| 391/391 [00:19<00:00, 20.57it/s, train_acc=0.685, xentropy=0.677]\n"
          ]
        },
        {
          "output_type": "stream",
          "name": "stdout",
          "text": [
            "test_acc: 0.667\n",
            "\n",
            "Epoch: 134\n"
          ]
        },
        {
          "output_type": "stream",
          "name": "stderr",
          "text": [
            "Epoch 134: 100%|██████████| 391/391 [00:18<00:00, 21.11it/s, train_acc=0.686, xentropy=0.675]\n"
          ]
        },
        {
          "output_type": "stream",
          "name": "stdout",
          "text": [
            "test_acc: 0.674\n",
            "\n",
            "Epoch: 135\n"
          ]
        },
        {
          "output_type": "stream",
          "name": "stderr",
          "text": [
            "Epoch 135: 100%|██████████| 391/391 [00:18<00:00, 20.99it/s, train_acc=0.685, xentropy=0.675]\n"
          ]
        },
        {
          "output_type": "stream",
          "name": "stdout",
          "text": [
            "test_acc: 0.559\n",
            "\n",
            "Epoch: 136\n"
          ]
        },
        {
          "output_type": "stream",
          "name": "stderr",
          "text": [
            "Epoch 136: 100%|██████████| 391/391 [00:18<00:00, 20.73it/s, train_acc=0.685, xentropy=0.677]\n"
          ]
        },
        {
          "output_type": "stream",
          "name": "stdout",
          "text": [
            "test_acc: 0.629\n",
            "\n",
            "Epoch: 137\n"
          ]
        },
        {
          "output_type": "stream",
          "name": "stderr",
          "text": [
            "Epoch 137: 100%|██████████| 391/391 [00:18<00:00, 20.93it/s, train_acc=0.682, xentropy=0.677]\n"
          ]
        },
        {
          "output_type": "stream",
          "name": "stdout",
          "text": [
            "test_acc: 0.680\n",
            "\n",
            "Epoch: 138\n"
          ]
        },
        {
          "output_type": "stream",
          "name": "stderr",
          "text": [
            "Epoch 138: 100%|██████████| 391/391 [00:18<00:00, 20.92it/s, train_acc=0.687, xentropy=0.675]\n"
          ]
        },
        {
          "output_type": "stream",
          "name": "stdout",
          "text": [
            "test_acc: 0.633\n",
            "\n",
            "Epoch: 139\n"
          ]
        },
        {
          "output_type": "stream",
          "name": "stderr",
          "text": [
            "Epoch 139: 100%|██████████| 391/391 [00:18<00:00, 21.41it/s, train_acc=0.682, xentropy=0.680]\n"
          ]
        },
        {
          "output_type": "stream",
          "name": "stdout",
          "text": [
            "test_acc: 0.682\n",
            "\n",
            "Epoch: 140\n"
          ]
        },
        {
          "output_type": "stream",
          "name": "stderr",
          "text": [
            "Epoch 140: 100%|██████████| 391/391 [00:18<00:00, 21.11it/s, train_acc=0.683, xentropy=0.677]\n"
          ]
        },
        {
          "output_type": "stream",
          "name": "stdout",
          "text": [
            "test_acc: 0.603\n",
            "\n",
            "Epoch: 141\n"
          ]
        },
        {
          "output_type": "stream",
          "name": "stderr",
          "text": [
            "Epoch 141: 100%|██████████| 391/391 [00:18<00:00, 21.14it/s, train_acc=0.686, xentropy=0.676]\n"
          ]
        },
        {
          "output_type": "stream",
          "name": "stdout",
          "text": [
            "test_acc: 0.629\n",
            "\n",
            "Epoch: 142\n"
          ]
        },
        {
          "output_type": "stream",
          "name": "stderr",
          "text": [
            "Epoch 142: 100%|██████████| 391/391 [00:18<00:00, 21.04it/s, train_acc=0.682, xentropy=0.680]\n"
          ]
        },
        {
          "output_type": "stream",
          "name": "stdout",
          "text": [
            "test_acc: 0.606\n",
            "\n",
            "Epoch: 143\n"
          ]
        },
        {
          "output_type": "stream",
          "name": "stderr",
          "text": [
            "Epoch 143: 100%|██████████| 391/391 [00:18<00:00, 21.27it/s, train_acc=0.682, xentropy=0.681]\n"
          ]
        },
        {
          "output_type": "stream",
          "name": "stdout",
          "text": [
            "test_acc: 0.680\n",
            "\n",
            "Epoch: 144\n"
          ]
        },
        {
          "output_type": "stream",
          "name": "stderr",
          "text": [
            "Epoch 144: 100%|██████████| 391/391 [00:18<00:00, 20.85it/s, train_acc=0.683, xentropy=0.679]\n"
          ]
        },
        {
          "output_type": "stream",
          "name": "stdout",
          "text": [
            "test_acc: 0.659\n",
            "\n",
            "Epoch: 145\n"
          ]
        },
        {
          "output_type": "stream",
          "name": "stderr",
          "text": [
            "Epoch 145: 100%|██████████| 391/391 [00:18<00:00, 21.14it/s, train_acc=0.684, xentropy=0.675]\n"
          ]
        },
        {
          "output_type": "stream",
          "name": "stdout",
          "text": [
            "test_acc: 0.592\n",
            "\n",
            "Epoch: 146\n"
          ]
        },
        {
          "output_type": "stream",
          "name": "stderr",
          "text": [
            "Epoch 146: 100%|██████████| 391/391 [00:18<00:00, 20.90it/s, train_acc=0.686, xentropy=0.675]\n"
          ]
        },
        {
          "output_type": "stream",
          "name": "stdout",
          "text": [
            "test_acc: 0.572\n",
            "\n",
            "Epoch: 147\n"
          ]
        },
        {
          "output_type": "stream",
          "name": "stderr",
          "text": [
            "Epoch 147: 100%|██████████| 391/391 [00:18<00:00, 21.15it/s, train_acc=0.682, xentropy=0.680]\n"
          ]
        },
        {
          "output_type": "stream",
          "name": "stdout",
          "text": [
            "test_acc: 0.652\n",
            "\n",
            "Epoch: 148\n"
          ]
        },
        {
          "output_type": "stream",
          "name": "stderr",
          "text": [
            "Epoch 148: 100%|██████████| 391/391 [00:19<00:00, 20.58it/s, train_acc=0.682, xentropy=0.679]\n"
          ]
        },
        {
          "output_type": "stream",
          "name": "stdout",
          "text": [
            "test_acc: 0.630\n",
            "\n",
            "Epoch: 149\n"
          ]
        },
        {
          "output_type": "stream",
          "name": "stderr",
          "text": [
            "Epoch 149: 100%|██████████| 391/391 [00:18<00:00, 20.72it/s, train_acc=0.681, xentropy=0.679]\n"
          ]
        },
        {
          "output_type": "stream",
          "name": "stdout",
          "text": [
            "test_acc: 0.660\n",
            "\n",
            "Epoch: 150\n"
          ]
        },
        {
          "output_type": "stream",
          "name": "stderr",
          "text": [
            "Epoch 150: 100%|██████████| 391/391 [00:19<00:00, 20.31it/s, train_acc=0.681, xentropy=0.680]\n"
          ]
        },
        {
          "output_type": "stream",
          "name": "stdout",
          "text": [
            "test_acc: 0.573\n",
            "\n",
            "Epoch: 151\n"
          ]
        },
        {
          "output_type": "stream",
          "name": "stderr",
          "text": [
            "Epoch 151: 100%|██████████| 391/391 [00:18<00:00, 20.82it/s, train_acc=0.683, xentropy=0.680]\n"
          ]
        },
        {
          "output_type": "stream",
          "name": "stdout",
          "text": [
            "test_acc: 0.667\n",
            "\n",
            "Epoch: 152\n"
          ]
        },
        {
          "output_type": "stream",
          "name": "stderr",
          "text": [
            "Epoch 152: 100%|██████████| 391/391 [00:19<00:00, 20.56it/s, train_acc=0.682, xentropy=0.679]\n"
          ]
        },
        {
          "output_type": "stream",
          "name": "stdout",
          "text": [
            "test_acc: 0.680\n",
            "\n",
            "Epoch: 153\n"
          ]
        },
        {
          "output_type": "stream",
          "name": "stderr",
          "text": [
            "Epoch 153: 100%|██████████| 391/391 [00:18<00:00, 20.67it/s, train_acc=0.680, xentropy=0.679]\n"
          ]
        },
        {
          "output_type": "stream",
          "name": "stdout",
          "text": [
            "test_acc: 0.537\n",
            "\n",
            "Epoch: 154\n"
          ]
        },
        {
          "output_type": "stream",
          "name": "stderr",
          "text": [
            "Epoch 154: 100%|██████████| 391/391 [00:19<00:00, 20.56it/s, train_acc=0.683, xentropy=0.678]\n"
          ]
        },
        {
          "output_type": "stream",
          "name": "stdout",
          "text": [
            "test_acc: 0.614\n",
            "\n",
            "Epoch: 155\n"
          ]
        },
        {
          "output_type": "stream",
          "name": "stderr",
          "text": [
            "Epoch 155: 100%|██████████| 391/391 [00:19<00:00, 20.31it/s, train_acc=0.683, xentropy=0.679]\n"
          ]
        },
        {
          "output_type": "stream",
          "name": "stdout",
          "text": [
            "test_acc: 0.656\n",
            "\n",
            "Epoch: 156\n"
          ]
        },
        {
          "output_type": "stream",
          "name": "stderr",
          "text": [
            "Epoch 156: 100%|██████████| 391/391 [00:19<00:00, 20.47it/s, train_acc=0.682, xentropy=0.679]\n"
          ]
        },
        {
          "output_type": "stream",
          "name": "stdout",
          "text": [
            "test_acc: 0.678\n",
            "\n",
            "Epoch: 157\n"
          ]
        },
        {
          "output_type": "stream",
          "name": "stderr",
          "text": [
            "Epoch 157: 100%|██████████| 391/391 [00:18<00:00, 20.75it/s, train_acc=0.681, xentropy=0.679]\n"
          ]
        },
        {
          "output_type": "stream",
          "name": "stdout",
          "text": [
            "test_acc: 0.635\n",
            "\n",
            "Epoch: 158\n"
          ]
        },
        {
          "output_type": "stream",
          "name": "stderr",
          "text": [
            "Epoch 158: 100%|██████████| 391/391 [00:18<00:00, 20.94it/s, train_acc=0.681, xentropy=0.681]\n"
          ]
        },
        {
          "output_type": "stream",
          "name": "stdout",
          "text": [
            "test_acc: 0.661\n",
            "\n",
            "Epoch: 159\n"
          ]
        },
        {
          "output_type": "stream",
          "name": "stderr",
          "text": [
            "Epoch 159: 100%|██████████| 391/391 [00:18<00:00, 20.61it/s, train_acc=0.681, xentropy=0.677]\n"
          ]
        },
        {
          "output_type": "stream",
          "name": "stdout",
          "text": [
            "test_acc: 0.625\n",
            "\n",
            "Epoch: 160\n"
          ]
        },
        {
          "output_type": "stream",
          "name": "stderr",
          "text": [
            "Epoch 160: 100%|██████████| 391/391 [00:18<00:00, 20.84it/s, train_acc=0.689, xentropy=0.665]\n"
          ]
        },
        {
          "output_type": "stream",
          "name": "stdout",
          "text": [
            "test_acc: 0.679\n",
            "\n",
            "Epoch: 161\n"
          ]
        },
        {
          "output_type": "stream",
          "name": "stderr",
          "text": [
            "Epoch 161: 100%|██████████| 391/391 [00:18<00:00, 20.96it/s, train_acc=0.688, xentropy=0.666]\n"
          ]
        },
        {
          "output_type": "stream",
          "name": "stdout",
          "text": [
            "test_acc: 0.660\n",
            "\n",
            "Epoch: 162\n"
          ]
        },
        {
          "output_type": "stream",
          "name": "stderr",
          "text": [
            "Epoch 162: 100%|██████████| 391/391 [00:18<00:00, 21.03it/s, train_acc=0.689, xentropy=0.668]\n"
          ]
        },
        {
          "output_type": "stream",
          "name": "stdout",
          "text": [
            "test_acc: 0.632\n",
            "\n",
            "Epoch: 163\n"
          ]
        },
        {
          "output_type": "stream",
          "name": "stderr",
          "text": [
            "Epoch 163: 100%|██████████| 391/391 [00:18<00:00, 20.90it/s, train_acc=0.688, xentropy=0.666]\n"
          ]
        },
        {
          "output_type": "stream",
          "name": "stdout",
          "text": [
            "test_acc: 0.685\n",
            "\n",
            "Epoch: 164\n"
          ]
        },
        {
          "output_type": "stream",
          "name": "stderr",
          "text": [
            "Epoch 164: 100%|██████████| 391/391 [00:18<00:00, 21.24it/s, train_acc=0.692, xentropy=0.667]\n"
          ]
        },
        {
          "output_type": "stream",
          "name": "stdout",
          "text": [
            "test_acc: 0.692\n",
            "\n",
            "Epoch: 165\n"
          ]
        },
        {
          "output_type": "stream",
          "name": "stderr",
          "text": [
            "Epoch 165: 100%|██████████| 391/391 [00:18<00:00, 21.08it/s, train_acc=0.688, xentropy=0.668]\n"
          ]
        },
        {
          "output_type": "stream",
          "name": "stdout",
          "text": [
            "test_acc: 0.671\n",
            "\n",
            "Epoch: 166\n"
          ]
        },
        {
          "output_type": "stream",
          "name": "stderr",
          "text": [
            "Epoch 166: 100%|██████████| 391/391 [00:18<00:00, 21.03it/s, train_acc=0.688, xentropy=0.669]\n"
          ]
        },
        {
          "output_type": "stream",
          "name": "stdout",
          "text": [
            "test_acc: 0.650\n",
            "\n",
            "Epoch: 167\n"
          ]
        },
        {
          "output_type": "stream",
          "name": "stderr",
          "text": [
            "Epoch 167: 100%|██████████| 391/391 [00:18<00:00, 21.28it/s, train_acc=0.686, xentropy=0.670]\n"
          ]
        },
        {
          "output_type": "stream",
          "name": "stdout",
          "text": [
            "test_acc: 0.649\n",
            "\n",
            "Epoch: 168\n"
          ]
        },
        {
          "output_type": "stream",
          "name": "stderr",
          "text": [
            "Epoch 168: 100%|██████████| 391/391 [00:18<00:00, 21.23it/s, train_acc=0.687, xentropy=0.672]\n"
          ]
        },
        {
          "output_type": "stream",
          "name": "stdout",
          "text": [
            "test_acc: 0.678\n",
            "\n",
            "Epoch: 169\n"
          ]
        },
        {
          "output_type": "stream",
          "name": "stderr",
          "text": [
            "Epoch 169: 100%|██████████| 391/391 [00:18<00:00, 21.06it/s, train_acc=0.689, xentropy=0.673]\n"
          ]
        },
        {
          "output_type": "stream",
          "name": "stdout",
          "text": [
            "test_acc: 0.644\n",
            "\n",
            "Epoch: 170\n"
          ]
        },
        {
          "output_type": "stream",
          "name": "stderr",
          "text": [
            "Epoch 170: 100%|██████████| 391/391 [00:18<00:00, 21.14it/s, train_acc=0.687, xentropy=0.673]\n"
          ]
        },
        {
          "output_type": "stream",
          "name": "stdout",
          "text": [
            "test_acc: 0.680\n",
            "\n",
            "Epoch: 171\n"
          ]
        },
        {
          "output_type": "stream",
          "name": "stderr",
          "text": [
            "Epoch 171: 100%|██████████| 391/391 [00:18<00:00, 21.40it/s, train_acc=0.689, xentropy=0.672]\n"
          ]
        },
        {
          "output_type": "stream",
          "name": "stdout",
          "text": [
            "test_acc: 0.656\n",
            "\n",
            "Epoch: 172\n"
          ]
        },
        {
          "output_type": "stream",
          "name": "stderr",
          "text": [
            "Epoch 172: 100%|██████████| 391/391 [00:18<00:00, 21.23it/s, train_acc=0.686, xentropy=0.675]\n"
          ]
        },
        {
          "output_type": "stream",
          "name": "stdout",
          "text": [
            "test_acc: 0.625\n",
            "\n",
            "Epoch: 173\n"
          ]
        },
        {
          "output_type": "stream",
          "name": "stderr",
          "text": [
            "Epoch 173: 100%|██████████| 391/391 [00:18<00:00, 21.40it/s, train_acc=0.688, xentropy=0.672]\n"
          ]
        },
        {
          "output_type": "stream",
          "name": "stdout",
          "text": [
            "test_acc: 0.690\n",
            "\n",
            "Epoch: 174\n"
          ]
        },
        {
          "output_type": "stream",
          "name": "stderr",
          "text": [
            "Epoch 174: 100%|██████████| 391/391 [00:18<00:00, 21.03it/s, train_acc=0.687, xentropy=0.673]\n"
          ]
        },
        {
          "output_type": "stream",
          "name": "stdout",
          "text": [
            "test_acc: 0.678\n",
            "\n",
            "Epoch: 175\n"
          ]
        },
        {
          "output_type": "stream",
          "name": "stderr",
          "text": [
            "Epoch 175: 100%|██████████| 391/391 [00:18<00:00, 21.25it/s, train_acc=0.684, xentropy=0.675]\n"
          ]
        },
        {
          "output_type": "stream",
          "name": "stdout",
          "text": [
            "test_acc: 0.647\n",
            "\n",
            "Epoch: 176\n"
          ]
        },
        {
          "output_type": "stream",
          "name": "stderr",
          "text": [
            "Epoch 176: 100%|██████████| 391/391 [00:18<00:00, 21.11it/s, train_acc=0.685, xentropy=0.677]\n"
          ]
        },
        {
          "output_type": "stream",
          "name": "stdout",
          "text": [
            "test_acc: 0.611\n",
            "\n",
            "Epoch: 177\n"
          ]
        },
        {
          "output_type": "stream",
          "name": "stderr",
          "text": [
            "Epoch 177: 100%|██████████| 391/391 [00:18<00:00, 21.41it/s, train_acc=0.685, xentropy=0.675]\n"
          ]
        },
        {
          "output_type": "stream",
          "name": "stdout",
          "text": [
            "test_acc: 0.658\n",
            "\n",
            "Epoch: 178\n"
          ]
        },
        {
          "output_type": "stream",
          "name": "stderr",
          "text": [
            "Epoch 178: 100%|██████████| 391/391 [00:18<00:00, 20.90it/s, train_acc=0.688, xentropy=0.675]\n"
          ]
        },
        {
          "output_type": "stream",
          "name": "stdout",
          "text": [
            "test_acc: 0.609\n",
            "\n",
            "Epoch: 179\n"
          ]
        },
        {
          "output_type": "stream",
          "name": "stderr",
          "text": [
            "Epoch 179: 100%|██████████| 391/391 [00:18<00:00, 21.28it/s, train_acc=0.686, xentropy=0.677]\n"
          ]
        },
        {
          "output_type": "stream",
          "name": "stdout",
          "text": [
            "test_acc: 0.687\n",
            "\n",
            "Epoch: 180\n"
          ]
        },
        {
          "output_type": "stream",
          "name": "stderr",
          "text": [
            "Epoch 180: 100%|██████████| 391/391 [00:18<00:00, 21.04it/s, train_acc=0.686, xentropy=0.678]\n"
          ]
        },
        {
          "output_type": "stream",
          "name": "stdout",
          "text": [
            "test_acc: 0.681\n",
            "\n",
            "Epoch: 181\n"
          ]
        },
        {
          "output_type": "stream",
          "name": "stderr",
          "text": [
            "Epoch 181: 100%|██████████| 391/391 [00:18<00:00, 21.38it/s, train_acc=0.682, xentropy=0.678]\n"
          ]
        },
        {
          "output_type": "stream",
          "name": "stdout",
          "text": [
            "test_acc: 0.657\n",
            "\n",
            "Epoch: 182\n"
          ]
        },
        {
          "output_type": "stream",
          "name": "stderr",
          "text": [
            "Epoch 182: 100%|██████████| 391/391 [00:18<00:00, 21.23it/s, train_acc=0.683, xentropy=0.679]\n"
          ]
        },
        {
          "output_type": "stream",
          "name": "stdout",
          "text": [
            "test_acc: 0.666\n",
            "\n",
            "Epoch: 183\n"
          ]
        },
        {
          "output_type": "stream",
          "name": "stderr",
          "text": [
            "Epoch 183: 100%|██████████| 391/391 [00:18<00:00, 21.38it/s, train_acc=0.685, xentropy=0.677]\n"
          ]
        },
        {
          "output_type": "stream",
          "name": "stdout",
          "text": [
            "test_acc: 0.620\n",
            "\n",
            "Epoch: 184\n"
          ]
        },
        {
          "output_type": "stream",
          "name": "stderr",
          "text": [
            "Epoch 184: 100%|██████████| 391/391 [00:18<00:00, 21.29it/s, train_acc=0.682, xentropy=0.678]\n"
          ]
        },
        {
          "output_type": "stream",
          "name": "stdout",
          "text": [
            "test_acc: 0.648\n",
            "\n",
            "Epoch: 185\n"
          ]
        },
        {
          "output_type": "stream",
          "name": "stderr",
          "text": [
            "Epoch 185: 100%|██████████| 391/391 [00:18<00:00, 21.20it/s, train_acc=0.684, xentropy=0.677]\n"
          ]
        },
        {
          "output_type": "stream",
          "name": "stdout",
          "text": [
            "test_acc: 0.664\n",
            "\n",
            "Epoch: 186\n"
          ]
        },
        {
          "output_type": "stream",
          "name": "stderr",
          "text": [
            "Epoch 186: 100%|██████████| 391/391 [00:18<00:00, 21.28it/s, train_acc=0.683, xentropy=0.680]\n"
          ]
        },
        {
          "output_type": "stream",
          "name": "stdout",
          "text": [
            "test_acc: 0.590\n",
            "\n",
            "Epoch: 187\n"
          ]
        },
        {
          "output_type": "stream",
          "name": "stderr",
          "text": [
            "Epoch 187: 100%|██████████| 391/391 [00:18<00:00, 21.43it/s, train_acc=0.682, xentropy=0.677]\n"
          ]
        },
        {
          "output_type": "stream",
          "name": "stdout",
          "text": [
            "test_acc: 0.551\n",
            "\n",
            "Epoch: 188\n"
          ]
        },
        {
          "output_type": "stream",
          "name": "stderr",
          "text": [
            "Epoch 188: 100%|██████████| 391/391 [00:18<00:00, 20.71it/s, train_acc=0.684, xentropy=0.679]\n"
          ]
        },
        {
          "output_type": "stream",
          "name": "stdout",
          "text": [
            "test_acc: 0.653\n",
            "\n",
            "Epoch: 189\n"
          ]
        },
        {
          "output_type": "stream",
          "name": "stderr",
          "text": [
            "Epoch 189: 100%|██████████| 391/391 [00:18<00:00, 21.20it/s, train_acc=0.683, xentropy=0.679]\n"
          ]
        },
        {
          "output_type": "stream",
          "name": "stdout",
          "text": [
            "test_acc: 0.661\n",
            "\n",
            "Epoch: 190\n"
          ]
        },
        {
          "output_type": "stream",
          "name": "stderr",
          "text": [
            "Epoch 190: 100%|██████████| 391/391 [00:18<00:00, 20.87it/s, train_acc=0.683, xentropy=0.680]\n"
          ]
        },
        {
          "output_type": "stream",
          "name": "stdout",
          "text": [
            "test_acc: 0.614\n",
            "\n",
            "Epoch: 191\n"
          ]
        },
        {
          "output_type": "stream",
          "name": "stderr",
          "text": [
            "Epoch 191: 100%|██████████| 391/391 [00:18<00:00, 20.96it/s, train_acc=0.683, xentropy=0.678]\n"
          ]
        },
        {
          "output_type": "stream",
          "name": "stdout",
          "text": [
            "test_acc: 0.675\n",
            "\n",
            "Epoch: 192\n"
          ]
        },
        {
          "output_type": "stream",
          "name": "stderr",
          "text": [
            "Epoch 192: 100%|██████████| 391/391 [00:18<00:00, 20.87it/s, train_acc=0.685, xentropy=0.679]\n"
          ]
        },
        {
          "output_type": "stream",
          "name": "stdout",
          "text": [
            "test_acc: 0.658\n",
            "\n",
            "Epoch: 193\n"
          ]
        },
        {
          "output_type": "stream",
          "name": "stderr",
          "text": [
            "Epoch 193: 100%|██████████| 391/391 [00:18<00:00, 21.20it/s, train_acc=0.684, xentropy=0.679]\n"
          ]
        },
        {
          "output_type": "stream",
          "name": "stdout",
          "text": [
            "test_acc: 0.650\n",
            "\n",
            "Epoch: 194\n"
          ]
        },
        {
          "output_type": "stream",
          "name": "stderr",
          "text": [
            "Epoch 194: 100%|██████████| 391/391 [00:18<00:00, 21.06it/s, train_acc=0.682, xentropy=0.680]\n"
          ]
        },
        {
          "output_type": "stream",
          "name": "stdout",
          "text": [
            "test_acc: 0.657\n",
            "\n",
            "Epoch: 195\n"
          ]
        },
        {
          "output_type": "stream",
          "name": "stderr",
          "text": [
            "Epoch 195: 100%|██████████| 391/391 [00:18<00:00, 21.24it/s, train_acc=0.683, xentropy=0.679]\n"
          ]
        },
        {
          "output_type": "stream",
          "name": "stdout",
          "text": [
            "test_acc: 0.641\n",
            "\n",
            "Epoch: 196\n"
          ]
        },
        {
          "output_type": "stream",
          "name": "stderr",
          "text": [
            "Epoch 196: 100%|██████████| 391/391 [00:18<00:00, 21.10it/s, train_acc=0.684, xentropy=0.679]\n"
          ]
        },
        {
          "output_type": "stream",
          "name": "stdout",
          "text": [
            "test_acc: 0.641\n",
            "\n",
            "Epoch: 197\n"
          ]
        },
        {
          "output_type": "stream",
          "name": "stderr",
          "text": [
            "Epoch 197: 100%|██████████| 391/391 [00:18<00:00, 21.00it/s, train_acc=0.684, xentropy=0.678]\n"
          ]
        },
        {
          "output_type": "stream",
          "name": "stdout",
          "text": [
            "test_acc: 0.609\n",
            "\n",
            "Epoch: 198\n"
          ]
        },
        {
          "output_type": "stream",
          "name": "stderr",
          "text": [
            "Epoch 198: 100%|██████████| 391/391 [00:18<00:00, 20.85it/s, train_acc=0.684, xentropy=0.681]\n"
          ]
        },
        {
          "output_type": "stream",
          "name": "stdout",
          "text": [
            "test_acc: 0.627\n",
            "\n",
            "Epoch: 199\n"
          ]
        },
        {
          "output_type": "stream",
          "name": "stderr",
          "text": [
            "Epoch 199: 100%|██████████| 391/391 [00:18<00:00, 21.23it/s, train_acc=0.682, xentropy=0.681]\n"
          ]
        },
        {
          "output_type": "stream",
          "name": "stdout",
          "text": [
            "test_acc: 0.656\n"
          ]
        },
        {
          "output_type": "display_data",
          "data": {
            "text/plain": [
              "<IPython.core.display.HTML object>"
            ],
            "text/html": [
              "Waiting for W&B process to finish... <strong style=\"color:green\">(success).</strong>"
            ]
          },
          "metadata": {}
        },
        {
          "output_type": "display_data",
          "data": {
            "text/plain": [
              "<IPython.core.display.HTML object>"
            ],
            "text/html": [
              "<style>\n",
              "    table.wandb td:nth-child(1) { padding: 0 10px; text-align: left ; width: auto;} td:nth-child(2) {text-align: left ; width: 100%}\n",
              "    .wandb-row { display: flex; flex-direction: row; flex-wrap: wrap; justify-content: flex-start; width: 100% }\n",
              "    .wandb-col { display: flex; flex-direction: column; flex-basis: 100%; flex: 1; padding: 10px; }\n",
              "    </style>\n",
              "<div class=\"wandb-row\"><div class=\"wandb-col\"><h3>Run history:</h3><br/><table class=\"wandb\"><tr><td>cross_entropy</td><td>██▆▄▆▂▃▃▃▂▂▁▁▄▁▂▁▂▂▁▄▃▄▂▂▂▂▂▂▁▂▂▁▁▁▂▂▂▂▁</td></tr><tr><td>lr</td><td>████████▂▂▂▂▂▂▂▂▁▁▁▁▁▁▁▁▁▁▁▁▁▁▁▁▁▁▁▁▁▁▁▁</td></tr><tr><td>test_acc</td><td>▁▃▂▂▄▂▄▃▇▇▇▆▄▆▇▃██▇▇▇▇▇▇█▇███▇▆▇█▇██▇▆▇▇</td></tr><tr><td>test_loss</td><td>▆▄▇█▅▇▇▆▂▂▂▃▆▃▂▇▁▁▂▂▂▂▂▂▁▂▁▁▁▂▃▂▁▂▁▂▂▃▂▁</td></tr><tr><td>train_acc</td><td>▁▃▄▅▆▆▆▆▇▇▇▇▇▇▇▇████████████████████████</td></tr><tr><td>train_loss</td><td>█▆▅▄▃▄▃▃▂▂▂▂▂▂▂▂▁▁▁▁▁▁▁▁▁▁▁▁▁▁▁▁▁▁▁▁▁▁▁▁</td></tr></table><br/></div><div class=\"wandb-col\"><h3>Run summary:</h3><br/><table class=\"wandb\"><tr><td>cross_entropy</td><td>0.82069</td></tr><tr><td>lr</td><td>1e-05</td></tr><tr><td>test_acc</td><td>0.6557</td></tr><tr><td>test_loss</td><td>0.00841</td></tr><tr><td>train_acc</td><td>0.6817</td></tr><tr><td>train_loss</td><td>0.00532</td></tr></table><br/></div></div>"
            ]
          },
          "metadata": {}
        },
        {
          "output_type": "display_data",
          "data": {
            "text/plain": [
              "<IPython.core.display.HTML object>"
            ],
            "text/html": [
              " View run <strong style=\"color:#cdcd00\">restful-energy-14</strong> at: <a href='https://wandb.ai/jke1994/ResNet20_Q/runs/tux88tvx' target=\"_blank\">https://wandb.ai/jke1994/ResNet20_Q/runs/tux88tvx</a><br/>Synced 5 W&B file(s), 0 media file(s), 16 artifact file(s) and 0 other file(s)"
            ]
          },
          "metadata": {}
        },
        {
          "output_type": "display_data",
          "data": {
            "text/plain": [
              "<IPython.core.display.HTML object>"
            ],
            "text/html": [
              "Find logs at: <code>./wandb/run-20230717_100238-tux88tvx/logs</code>"
            ]
          },
          "metadata": {}
        }
      ],
      "source": [
        "lr = 0.01\n",
        "arch_tag = \"ResNet20Q\"\n",
        "batch_size = 128\n",
        "dataset = \"CIFAR10\"\n",
        "\n",
        "student_model = ResNet20_Q(a_bit=4, w_bit=1)\n",
        "\n",
        "run = wandb.init(\n",
        "    # set the wandb project where this run will be logged\n",
        "    project=\"ResNet20_Q\",\n",
        "\n",
        "    # track hyperparameters and run metadata\n",
        "    config={\n",
        "    \"learning_rate\": lr,\n",
        "    \"architecture\": arch_tag,\n",
        "    \"batch_size\": batch_size,\n",
        "    \"dataset\": dataset\n",
        "    }\n",
        ")\n",
        "\n",
        "my_trainer = ResNetTrainer(dataset=dataset,\n",
        "                           arch_tag=arch_tag,\n",
        "                           student_model=student_model,\n",
        "                           teacher_model=teacher_model,\n",
        "                           device = 'cuda',\n",
        "                           batch_size=batch_size)\n",
        "\n",
        "my_trainer.train_script(200)\n",
        "\n",
        "wandb.finish()\n",
        "\n",
        "runtime.unassign()"
      ]
    },
    {
      "cell_type": "code",
      "execution_count": null,
      "metadata": {
        "id": "0Ytz-Jfv_m_A"
      },
      "outputs": [],
      "source": []
    }
  ],
  "metadata": {
    "accelerator": "GPU",
    "colab": {
      "machine_shape": "hm",
      "provenance": [],
      "gpuType": "V100"
    },
    "kernelspec": {
      "display_name": "Python 3",
      "name": "python3"
    },
    "language_info": {
      "codemirror_mode": {
        "name": "ipython",
        "version": 3
      },
      "file_extension": ".py",
      "mimetype": "text/x-python",
      "name": "python",
      "nbconvert_exporter": "python",
      "pygments_lexer": "ipython3",
      "version": "3.8.17"
    }
  },
  "nbformat": 4,
  "nbformat_minor": 0
}