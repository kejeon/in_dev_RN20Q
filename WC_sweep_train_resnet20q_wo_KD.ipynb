{
 "cells": [
  {
   "cell_type": "code",
   "execution_count": null,
   "metadata": {},
   "outputs": [],
   "source": [
    "import sys\n",
    "IN_COLAB = 'google.colab' in sys.modules\n",
    "IN_LOCAL = not IN_COLAB\n",
    "USE_GITHUB = True\n",
    "USE_DRIVE = False\n",
    "device = 'cuda'\n",
    "\n",
    "assert not (USE_GITHUB and USE_DRIVE)"
   ]
  },
  {
   "cell_type": "code",
   "execution_count": null,
   "metadata": {},
   "outputs": [],
   "source": [
    "if IN_COLAB:\n",
    "  !pip install wandb -qU\n",
    "  from google.colab import runtime\n",
    "  if USE_GITHUB:\n",
    "    !git clone https://github.com/kejeon/in_dev_RN20Q.git\n",
    "    %cd '/content/in_dev_RN20Q'\n",
    "  elif USE_DRIVE:\n",
    "    from google.colab import drive\n",
    "    drive.mount('/content/drive')\n",
    "    %cd '/content/drive/MyDrive/GitHub/in_dev_RN20Q'\n",
    "\n",
    "import wandb\n",
    "import torch\n",
    "from model.resnet4c10q import ResNet20_Q\n",
    "from model.resnet4c10 import resnet20\n",
    "from mylib.WCResNetTrainer import ResNetTrainer\n",
    "\n",
    "wandb.login(key='e0c11d3ff2bee4c8775ba05863038fdac671c043')"
   ]
  },
  {
   "cell_type": "code",
   "execution_count": null,
   "metadata": {},
   "outputs": [],
   "source": [
    "def train():\n",
    "    run = wandb.init()\n",
    "\n",
    "    api = wandb.Api()\n",
    "    artifact = api.artifact('jke1994/ResNet20_WC_L1/model:v129')\n",
    "    artifact.download(root='./pretrained_model')\n",
    "    state_dict = torch.load('./pretrained_model/ckpt.pth', map_location=torch.device(device))\n",
    "\n",
    "    lr = wandb.config.lr\n",
    "    arch_tag = \"ResNet20_Q\"\n",
    "    batch_size = 128\n",
    "    dataset = \"CIFAR10\"\n",
    "    lambda_l1 = wandb.config.lambda_l1\n",
    "    lambda_kl = wandb.config.lambda_kl\n",
    "    a_bit = wandb.config.a_bit\n",
    "    w_bit = wandb.config.w_bit\n",
    "    train_epoch = wandb.config.train_epoch\n",
    "\n",
    "    model = ResNet20_Q(a_bit=a_bit, w_bit=w_bit)\n",
    "\n",
    "    try:\n",
    "        model.load_state_dict(state_dict['net'])\n",
    "    except:\n",
    "        # if the model is wrapped in a module, update all keys in state_dict to remove module.\n",
    "        state_dict['net'] = {k.replace('module.', ''): v for k, v in state_dict['net'].items()}\n",
    "        model.load_state_dict(state_dict['net'])\n",
    "\n",
    "    my_trainer = ResNetTrainer(dataset=dataset,\n",
    "                           arch_tag=arch_tag,\n",
    "                           lambda_l1=lambda_l1,\n",
    "                           lambda_kl=lambda_kl,\n",
    "                           model=model,\n",
    "                           device = device,\n",
    "                           batch_size=batch_size,\n",
    "                           lr=lr)\n",
    "\n",
    "    my_trainer.train_script(train_epoch)\n",
    "\n",
    "    return"
   ]
  },
  {
   "cell_type": "code",
   "execution_count": null,
   "metadata": {},
   "outputs": [],
   "source": [
    "torch.manual_seed(0)\n",
    "\n",
    "sweep_configuration = {\n",
    "    'method': 'grid',\n",
    "    'name': 'sweep_1',\n",
    "    'metric': {'goal': 'maximize', 'name': 'test_acc'},\n",
    "    'parameters': \n",
    "    {\n",
    "        'lr': {'values': [0.001]},\n",
    "        'lambda_l1': {'values': [0.000002, 0.000004, 0.000006, 0.000008, 0.00001]},\n",
    "        'lambda_kl': {'values': [100, 150, 200, 250, 300]},\n",
    "        'a_bit': {'values': [4]},\n",
    "        'w_bit': {'values': [4]},\n",
    "        'train_epoch': {'values': [100]}\n",
    "     }\n",
    "}\n",
    "\n",
    "sweep_id = wandb.sweep(\n",
    "  sweep=sweep_configuration, \n",
    "  project='ResNet20_WC_L1_Sweep'\n",
    "  )"
   ]
  },
  {
   "cell_type": "code",
   "execution_count": null,
   "metadata": {},
   "outputs": [],
   "source": [
    "wandb.agent(sweep_id, function=train, count=25)\n",
    "\n",
    "wandb.finish()\n",
    "\n",
    "runtime.unassign()"
   ]
  },
  {
   "cell_type": "code",
   "execution_count": null,
   "metadata": {},
   "outputs": [],
   "source": []
  }
 ],
 "metadata": {
  "language_info": {
   "name": "python"
  },
  "orig_nbformat": 4
 },
 "nbformat": 4,
 "nbformat_minor": 2
}
