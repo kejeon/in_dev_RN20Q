{
 "cells": [
  {
   "cell_type": "code",
   "execution_count": 1,
   "metadata": {},
   "outputs": [
    {
     "name": "stdout",
     "output_type": "stream",
     "text": [
      "Intel MKL WARNING: Support of Intel(R) Streaming SIMD Extensions 4.2 (Intel(R) SSE4.2) enabled only processors has been deprecated. Intel oneAPI Math Kernel Library 2025.0 will require Intel(R) Advanced Vector Extensions (Intel(R) AVX) instructions.\n",
      "Intel MKL WARNING: Support of Intel(R) Streaming SIMD Extensions 4.2 (Intel(R) SSE4.2) enabled only processors has been deprecated. Intel oneAPI Math Kernel Library 2025.0 will require Intel(R) Advanced Vector Extensions (Intel(R) AVX) instructions.\n"
     ]
    }
   ],
   "source": [
    "import torch\n",
    "import wandb\n",
    "import mylib.utils as utils\n",
    "from model.resnet4c10q import ResNet20_Q\n",
    "import matplotlib.pyplot as plt\n",
    "import numpy as np\n",
    "from model.q_lib import Conv2d_Q\n",
    "from mylib.utils import load_CIFAR10\n",
    "import pandas as pd\n",
    "\n",
    "device = 'cpu'"
   ]
  },
  {
   "cell_type": "code",
   "execution_count": 2,
   "metadata": {},
   "outputs": [],
   "source": [
    "def load_wandb_models(wandb_path):\n",
    "    api = wandb.Api()\n",
    "    artifact = api.artifact(wandb_path)\n",
    "    artifact.download(root='./pretrained_model')\n",
    "    state_dict = torch.load('./pretrained_model/ckpt.pth', map_location=torch.device(device))\n",
    "\n",
    "    model = ResNet20_Q(a_bit=4, w_bit=2)\n",
    "\n",
    "    try:\n",
    "        model.load_state_dict(state_dict['net'])\n",
    "    except:\n",
    "        # if the model is wrapped in a module, update all keys in state_dict to remove module.\n",
    "        state_dict['net'] = {k.replace('module.', ''): v for k, v in state_dict['net'].items()}\n",
    "        model.load_state_dict(state_dict['net'])\n",
    "\n",
    "    return model"
   ]
  },
  {
   "cell_type": "code",
   "execution_count": 5,
   "metadata": {},
   "outputs": [],
   "source": [
    "def nn_traversal(root, layer_name_list, num_row_list, num_zero_list, num_total_list, cant_merge_num_row_list):\n",
    "    for name, layer in root.named_children():\n",
    "        if isinstance(layer, Conv2d_Q):\n",
    "            if layer.in_channels != layer.out_channels:\n",
    "                continue\n",
    "            my_tensor = layer.w_q.detach().numpy()\n",
    "            num_row, cant_merge_num_row = utils.rm_algo(my_tensor)\n",
    "            cant_merge_num_row_list.append(cant_merge_num_row)\n",
    "            num_row_list.append(num_row)\n",
    "            num_total_list.append(len(my_tensor.flatten()))\n",
    "            num_zero_list.append(np.sum(my_tensor==0))\n",
    "            layer_name_list.append(name)\n",
    "        else:\n",
    "            if len(layer._modules) == 0:\n",
    "                continue\n",
    "            # num_row_list_new, num_zero_list_new, layer_name_list_new = nn_traversal(layer, layer_name_list, num_row_list, num_zero_list)\n",
    "            num_row_list, num_zero_list, layer_name_list, num_total_list, cant_merge_num_row_list = nn_traversal(layer, layer_name_list, num_row_list, num_zero_list, num_total_list, cant_merge_num_row_list)\n",
    "            \n",
    "            # num_row_list.append(num_row_list_new)\n",
    "            # num_zero_list.append(num_zero_list_new)\n",
    "            # layer_name_list.append(layer_name_list_new)\n",
    "\n",
    "    return num_row_list, num_zero_list, layer_name_list, num_total_list, cant_merge_num_row_list"
   ]
  },
  {
   "cell_type": "code",
   "execution_count": 26,
   "metadata": {},
   "outputs": [
    {
     "name": "stderr",
     "output_type": "stream",
     "text": [
      "\u001b[34m\u001b[1mwandb\u001b[0m:   1 of 1 files downloaded.  \n",
      "\u001b[34m\u001b[1mwandb\u001b[0m:   1 of 1 files downloaded.  \n"
     ]
    },
    {
     "name": "stdout",
     "output_type": "stream",
     "text": [
      "Files already downloaded and verified\n",
      "Files already downloaded and verified\n",
      "Intel MKL WARNING: Support of Intel(R) Streaming SIMD Extensions 4.2 (Intel(R) SSE4.2) enabled only processors has been deprecated. Intel oneAPI Math Kernel Library 2025.0 will require Intel(R) Advanced Vector Extensions (Intel(R) AVX) instructions.\n",
      "Intel MKL WARNING: Support of Intel(R) Streaming SIMD Extensions 4.2 (Intel(R) SSE4.2) enabled only processors has been deprecated. Intel oneAPI Math Kernel Library 2025.0 will require Intel(R) Advanced Vector Extensions (Intel(R) AVX) instructions.\n",
      "Intel MKL WARNING: Support of Intel(R) Streaming SIMD Extensions 4.2 (Intel(R) SSE4.2) enabled only processors has been deprecated. Intel oneAPI Math Kernel Library 2025.0 will require Intel(R) Advanced Vector Extensions (Intel(R) AVX) instructions.\n",
      "Intel MKL WARNING: Support of Intel(R) Streaming SIMD Extensions 4.2 (Intel(R) SSE4.2) enabled only processors has been deprecated. Intel oneAPI Math Kernel Library 2025.0 will require Intel(R) Advanced Vector Extensions (Intel(R) AVX) instructions.\n"
     ]
    }
   ],
   "source": [
    "# jke1994/ResNet20_WC/model:v189  :  a_bit=4, w_bit=2, eta=0\n",
    "# jke1994/ResNet20_WC/model:v182  :  a_bit=4, w_bit=2, eta=100\n",
    "\n",
    "# jke1994/ResNet20_WC/model:v106  :  a_bit=4, w_bit=4, eta=0\n",
    "# jke1994/ResNet20_WC/model:v111  :  a_bit=4, w_bit=4, eta=100\n",
    "\n",
    "# jke1994/ResNet20_WC_L1/model:v129 :  a_bit=4, w_bit=4, lambda_kl=0, lambda_l1=0\n",
    "# jke1994/ResNet20_WC_L1/model:v115 :  a_bit=4, w_bit=4, lambda_kl=100, lambda_l1=0.00001\n",
    "\n",
    "\n",
    "# model_noWC = load_wandb_models('jke1994/ResNet20_WC_L1/model:v129')\n",
    "# model_WC = load_wandb_models('jke1994/ResNet20_WC_L1/model:v115')\n",
    "\n",
    "model_noWC = load_wandb_models('jke1994/ResNet20_WC/model:v106')\n",
    "model_WC = load_wandb_models('jke1994/ResNet20_WC/model:v111')\n",
    "train_loader, test_loader = load_CIFAR10(batch_size=128)\n",
    "\n",
    "with torch.no_grad():\n",
    "    for batch_idx, (inputs, targets) in enumerate(train_loader):\n",
    "        inputs= inputs.to(device)\n",
    "        outputs = model_noWC(inputs)\n",
    "        outputs = model_WC(inputs)\n",
    "        break"
   ]
  },
  {
   "cell_type": "code",
   "execution_count": 27,
   "metadata": {},
   "outputs": [
    {
     "name": "stdout",
     "output_type": "stream",
     "text": [
      "3928\n",
      "145236\n",
      "244224\n",
      "[2304, 2304, 2304, 2304, 2304, 2304, 9216, 9216, 9216, 9216, 9216, 36864, 36864, 36864, 36864, 36864]\n",
      "[  552  1174   961  1215  1377  1301  5272  4346  5387  5672  5653 23157\n",
      " 22571 23173 22223 21202]\n",
      "[59, 26, 42, 59, 50, 72, 44, 34, 62, 46, 65, 111, 82, 85, 50, 84]\n",
      "971\n",
      "[89, 99, 93, 131, 124, 137, 212, 176, 215, 219, 235, 462, 432, 450, 419, 435]\n"
     ]
    }
   ],
   "source": [
    "num_row_list, num_zero_list, layer_name_list, num_total_list, cant_merge_num_row_list = nn_traversal(model_WC, [], [], [], [], [])\n",
    "\n",
    "print(np.sum(num_row_list))\n",
    "print(np.sum(np.array(num_total_list) - np.array(num_zero_list)))\n",
    "print(np.sum(num_total_list))\n",
    "print(num_total_list)\n",
    "print(np.array(num_total_list) - np.array(num_zero_list))\n",
    "print(cant_merge_num_row_list)\n",
    "print(np.sum(np.array(cant_merge_num_row_list)))\n",
    "print(num_row_list)\n",
    "\n",
    "# export num_row_list and num_zero_list to csv\n",
    "df = pd.DataFrame({'layer_name': layer_name_list, 'num_row': num_row_list, 'num_zero': num_zero_list, 'num_total': num_total_list})\n",
    "df.to_csv('num_row_zero.csv', index=False)\n"
   ]
  },
  {
   "cell_type": "code",
   "execution_count": 28,
   "metadata": {},
   "outputs": [
    {
     "data": {
      "text/plain": [
       "0.59468356918239"
      ]
     },
     "execution_count": 28,
     "metadata": {},
     "output_type": "execute_result"
    }
   ],
   "source": [
    "z = np.array(num_zero_list)\n",
    "t = np.array(num_total_list)\n",
    "\n",
    "1 - np.sum(z)/np.sum(t)"
   ]
  },
  {
   "cell_type": "code",
   "execution_count": 29,
   "metadata": {},
   "outputs": [
    {
     "name": "stdout",
     "output_type": "stream",
     "text": [
      "4226\n",
      "139812\n",
      "244224\n",
      "[2304, 2304, 2304, 2304, 2304, 2304, 9216, 9216, 9216, 9216, 9216, 36864, 36864, 36864, 36864, 36864]\n",
      "[  736   787   936   932  1295   791  4724  4275  5184  5337  4703 22470\n",
      " 22771 22718 21812 20341]\n",
      "[41, 57, 26, 41, 40, 65, 106, 41, 132, 53, 125, 203, 100, 186, 123, 126]\n",
      "1465\n",
      "[81, 123, 93, 116, 119, 125, 251, 186, 261, 224, 260, 509, 461, 501, 468, 448]\n"
     ]
    }
   ],
   "source": [
    "num_row_list, num_zero_list, layer_name_list, num_total_list, cant_merge_num_row_list = nn_traversal(model_noWC, [], [], [], [], [])\n",
    "\n",
    "print(np.sum(num_row_list))\n",
    "print(np.sum(np.array(num_total_list) - np.array(num_zero_list)))\n",
    "print(np.sum(num_total_list))\n",
    "print(num_total_list)\n",
    "print(np.array(num_total_list) - np.array(num_zero_list))\n",
    "print(cant_merge_num_row_list)\n",
    "print(np.sum(np.array(cant_merge_num_row_list)))\n",
    "print(num_row_list)\n",
    "\n",
    "df = pd.DataFrame({'layer_name': layer_name_list, 'num_row': num_row_list, 'num_zero': num_zero_list, 'num_total': num_total_list})\n",
    "df.to_csv('num_row_zero2.csv', index=False)"
   ]
  },
  {
   "cell_type": "code",
   "execution_count": 30,
   "metadata": {},
   "outputs": [
    {
     "data": {
      "text/plain": [
       "0.5724744496855345"
      ]
     },
     "execution_count": 30,
     "metadata": {},
     "output_type": "execute_result"
    }
   ],
   "source": [
    "z = np.array(num_zero_list)\n",
    "t = np.array(num_total_list)\n",
    "\n",
    "1 - np.sum(z)/np.sum(t)"
   ]
  },
  {
   "cell_type": "code",
   "execution_count": 7,
   "metadata": {},
   "outputs": [
    {
     "data": {
      "image/png": "[encoded data removed]",
      "text/plain": [
       "<Figure size 1000x500 with 2 Axes>"
      ]
     },
     "metadata": {},
     "output_type": "display_data"
    }
   ],
   "source": [
    "# create a sub figure 1x2\n",
    "fig, axs = plt.subplots(1, 2, figsize=(10, 5))\n",
    "# plot for the first sub figure\n",
    "my_tensor = model_WC.layers_2n[0].conv1.w_q.detach().numpy()\n",
    "axs[0].hist(my_tensor.flatten(), bins=100);\n",
    "\n",
    "my_tensor = model_WC.layers_2n[0].conv1.weight.detach().numpy()\n",
    "axs[1].hist(my_tensor.flatten(), bins=100);"
   ]
  },
  {
   "cell_type": "code",
   "execution_count": 9,
   "metadata": {},
   "outputs": [
    {
     "name": "stdout",
     "output_type": "stream",
     "text": [
      "Intel MKL WARNING: Support of Intel(R) Streaming SIMD Extensions 4.2 (Intel(R) SSE4.2) enabled only processors has been deprecated. Intel oneAPI Math Kernel Library 2025.0 will require Intel(R) Advanced Vector Extensions (Intel(R) AVX) instructions.\n",
      "Intel MKL WARNING: Support of Intel(R) Streaming SIMD Extensions 4.2 (Intel(R) SSE4.2) enabled only processors has been deprecated. Intel oneAPI Math Kernel Library 2025.0 will require Intel(R) Advanced Vector Extensions (Intel(R) AVX) instructions.\n",
      "Intel MKL WARNING: Support of Intel(R) Streaming SIMD Extensions 4.2 (Intel(R) SSE4.2) enabled only processors has been deprecated. Intel oneAPI Math Kernel Library 2025.0 will require Intel(R) Advanced Vector Extensions (Intel(R) AVX) instructions.\n",
      "Intel MKL WARNING: Support of Intel(R) Streaming SIMD Extensions 4.2 (Intel(R) SSE4.2) enabled only processors has been deprecated. Intel oneAPI Math Kernel Library 2025.0 will require Intel(R) Advanced Vector Extensions (Intel(R) AVX) instructions.\n"
     ]
    }
   ],
   "source": [
    "with torch.no_grad():\n",
    "    for batch_idx, (inputs, targets) in enumerate(train_loader):\n",
    "        inputs, targets = inputs.to(device), targets.to(device)\n",
    "        outputs = model_44000(inputs)\n",
    "        break"
   ]
  },
  {
   "cell_type": "code",
   "execution_count": null,
   "metadata": {},
   "outputs": [],
   "source": []
  }
 ],
 "metadata": {
  "kernelspec": {
   "display_name": "py38",
   "language": "python",
   "name": "python3"
  },
  "language_info": {
   "codemirror_mode": {
    "name": "ipython",
    "version": 3
   },
   "file_extension": ".py",
   "mimetype": "text/x-python",
   "name": "python",
   "nbconvert_exporter": "python",
   "pygments_lexer": "ipython3",
   "version": "3.8.17"
  },
  "orig_nbformat": 4
 },
 "nbformat": 4,
 "nbformat_minor": 2
}
