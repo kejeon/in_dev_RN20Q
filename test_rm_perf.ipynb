{
 "cells": [
  {
   "cell_type": "code",
   "execution_count": 1,
   "metadata": {},
   "outputs": [
    {
     "name": "stdout",
     "output_type": "stream",
     "text": [
      "Intel MKL WARNING: Support of Intel(R) Streaming SIMD Extensions 4.2 (Intel(R) SSE4.2) enabled only processors has been deprecated. Intel oneAPI Math Kernel Library 2025.0 will require Intel(R) Advanced Vector Extensions (Intel(R) AVX) instructions.\n",
      "Intel MKL WARNING: Support of Intel(R) Streaming SIMD Extensions 4.2 (Intel(R) SSE4.2) enabled only processors has been deprecated. Intel oneAPI Math Kernel Library 2025.0 will require Intel(R) Advanced Vector Extensions (Intel(R) AVX) instructions.\n"
     ]
    }
   ],
   "source": [
    "import torch\n",
    "import wandb\n",
    "import mylib.utils as utils\n",
    "from model.resnet4c10q import ResNet20_Q\n",
    "import matplotlib.pyplot as plt\n",
    "import numpy as np\n",
    "from model.q_lib import Conv2d_Q\n",
    "from mylib.utils import load_CIFAR10\n",
    "\n",
    "device = 'cpu'"
   ]
  },
  {
   "cell_type": "code",
   "execution_count": 2,
   "metadata": {},
   "outputs": [],
   "source": [
    "def load_wandb_models(wandb_path):\n",
    "    api = wandb.Api()\n",
    "    artifact = api.artifact(wandb_path)\n",
    "    artifact.download(root='./pretrained_model')\n",
    "    state_dict = torch.load('./pretrained_model/ckpt.pth', map_location=torch.device(device))\n",
    "\n",
    "    model = ResNet20_Q(a_bit=4, w_bit=2)\n",
    "\n",
    "    try:\n",
    "        model.load_state_dict(state_dict['net'])\n",
    "    except:\n",
    "        # if the model is wrapped in a module, update all keys in state_dict to remove module.\n",
    "        state_dict['net'] = {k.replace('module.', ''): v for k, v in state_dict['net'].items()}\n",
    "        model.load_state_dict(state_dict['net'])\n",
    "\n",
    "    return model"
   ]
  },
  {
   "cell_type": "code",
   "execution_count": 31,
   "metadata": {},
   "outputs": [],
   "source": [
    "def nn_traversal(root, layer_name_list, num_row_list, num_zero_list):\n",
    "    for name, layer in root.named_children():\n",
    "        if isinstance(layer, Conv2d_Q):\n",
    "            if layer.in_channels != layer.out_channels:\n",
    "                continue\n",
    "            my_tensor = layer.w_q.detach().numpy()\n",
    "            num_row = utils.rm_algo(my_tensor)\n",
    "            num_row_list.append(num_row)\n",
    "            num_zero_list.append(np.sum(my_tensor==0))\n",
    "            layer_name_list.append(name)\n",
    "        else:\n",
    "            if len(layer._modules) == 0:\n",
    "                continue\n",
    "            # num_row_list_new, num_zero_list_new, layer_name_list_new = nn_traversal(layer, layer_name_list, num_row_list, num_zero_list)\n",
    "            num_row_list, num_zero_list, layer_name_list = nn_traversal(layer, layer_name_list, num_row_list, num_zero_list)\n",
    "            \n",
    "            # num_row_list.append(num_row_list_new)\n",
    "            # num_zero_list.append(num_zero_list_new)\n",
    "            # layer_name_list.append(layer_name_list_new)\n",
    "\n",
    "    return num_row_list, num_zero_list, layer_name_list"
   ]
  },
  {
   "cell_type": "code",
   "execution_count": 37,
   "metadata": {},
   "outputs": [
    {
     "name": "stderr",
     "output_type": "stream",
     "text": [
      "\u001b[34m\u001b[1mwandb\u001b[0m:   1 of 1 files downloaded.  \n",
      "\u001b[34m\u001b[1mwandb\u001b[0m:   1 of 1 files downloaded.  \n"
     ]
    },
    {
     "name": "stdout",
     "output_type": "stream",
     "text": [
      "Files already downloaded and verified\n",
      "Files already downloaded and verified\n",
      "Intel MKL WARNING: Support of Intel(R) Streaming SIMD Extensions 4.2 (Intel(R) SSE4.2) enabled only processors has been deprecated. Intel oneAPI Math Kernel Library 2025.0 will require Intel(R) Advanced Vector Extensions (Intel(R) AVX) instructions.\n",
      "Intel MKL WARNING: Support of Intel(R) Streaming SIMD Extensions 4.2 (Intel(R) SSE4.2) enabled only processors has been deprecated. Intel oneAPI Math Kernel Library 2025.0 will require Intel(R) Advanced Vector Extensions (Intel(R) AVX) instructions.\n",
      "Intel MKL WARNING: Support of Intel(R) Streaming SIMD Extensions 4.2 (Intel(R) SSE4.2) enabled only processors has been deprecated. Intel oneAPI Math Kernel Library 2025.0 will require Intel(R) Advanced Vector Extensions (Intel(R) AVX) instructions.\n",
      "Intel MKL WARNING: Support of Intel(R) Streaming SIMD Extensions 4.2 (Intel(R) SSE4.2) enabled only processors has been deprecated. Intel oneAPI Math Kernel Library 2025.0 will require Intel(R) Advanced Vector Extensions (Intel(R) AVX) instructions.\n"
     ]
    }
   ],
   "source": [
    "# jke1994/ResNet20_WC/model:v189  :  a_bit=4, w_bit=2, eta=0\n",
    "# jke1994/ResNet20_WC/model:v182  :  a_bit=4, w_bit=2, eta=100\n",
    "\n",
    "# jke1994/ResNet20_WC/model:v106  :  a_bit=4, w_bit=4, eta=0\n",
    "# jke1994/ResNet20_WC/model:v111  :  a_bit=4, w_bit=4, eta=100\n",
    "\n",
    "model_noWC = load_wandb_models('jke1994/ResNet20_WC/model:v189')\n",
    "model_WC = load_wandb_models('jke1994/ResNet20_WC/model:v182')\n",
    "train_loader, test_loader = load_CIFAR10(batch_size=128)\n",
    "\n",
    "with torch.no_grad():\n",
    "    for batch_idx, (inputs, targets) in enumerate(train_loader):\n",
    "        inputs= inputs.to(device)\n",
    "        outputs = model_noWC(inputs)\n",
    "        outputs = model_WC(inputs)\n",
    "        break"
   ]
  },
  {
   "cell_type": "code",
   "execution_count": 38,
   "metadata": {},
   "outputs": [
    {
     "name": "stdout",
     "output_type": "stream",
     "text": [
      "3875\n",
      "60774\n",
      "[87, 117, 108, 105, 113, 101, 221, 204, 207, 212, 210, 429, 443, 428, 443, 447]\n"
     ]
    }
   ],
   "source": [
    "num_row_list, num_zero_list, layer_name_list = nn_traversal(model_WC, [], [], [])\n",
    "\n",
    "print(np.sum(num_row_list))\n",
    "print(np.sum(num_zero_list))\n",
    "print(num_row_list)\n"
   ]
  },
  {
   "cell_type": "code",
   "execution_count": 39,
   "metadata": {},
   "outputs": [
    {
     "name": "stdout",
     "output_type": "stream",
     "text": [
      "3688\n",
      "66788\n",
      "[83, 69, 78, 111, 107, 95, 207, 203, 204, 219, 219, 424, 412, 410, 434, 413]\n"
     ]
    }
   ],
   "source": [
    "num_row_list, num_zero_list, layer_name_list = nn_traversal(model_noWC, [], [], [])\n",
    "\n",
    "print(np.sum(num_row_list))\n",
    "print(np.sum(num_zero_list))\n",
    "print(num_row_list)"
   ]
  },
  {
   "cell_type": "code",
   "execution_count": 34,
   "metadata": {},
   "outputs": [
    {
     "data": {
      "text/plain": [
       "5424"
      ]
     },
     "execution_count": 34,
     "metadata": {},
     "output_type": "execute_result"
    }
   ],
   "source": [
    "104412 - 98988"
   ]
  },
  {
   "cell_type": "code",
   "execution_count": 30,
   "metadata": {},
   "outputs": [
    {
     "data": {
      "text/plain": [
       "[144,\n",
       " 144,\n",
       " 144,\n",
       " 144,\n",
       " 144,\n",
       " 144,\n",
       " 288,\n",
       " 288,\n",
       " 288,\n",
       " 288,\n",
       " 288,\n",
       " 576,\n",
       " 576,\n",
       " 576,\n",
       " 576,\n",
       " 576]"
      ]
     },
     "execution_count": 30,
     "metadata": {},
     "output_type": "execute_result"
    }
   ],
   "source": [
    "num_row_list"
   ]
  },
  {
   "cell_type": "code",
   "execution_count": 12,
   "metadata": {},
   "outputs": [
    {
     "data": {
      "image/png": "[encoded data removed]",
      "text/plain": [
       "<Figure size 1000x500 with 2 Axes>"
      ]
     },
     "metadata": {},
     "output_type": "display_data"
    }
   ],
   "source": [
    "# create a sub figure 1x2\n",
    "fig, axs = plt.subplots(1, 2, figsize=(10, 5))\n",
    "# plot for the first sub figure\n",
    "my_tensor = model_WC.layers_2n[0].conv1.w_q.detach().numpy()\n",
    "axs[0].hist(my_tensor.flatten(), bins=100);\n",
    "\n",
    "my_tensor = model_WC.layers_2n[0].conv1.weight.detach().numpy()\n",
    "axs[1].hist(my_tensor.flatten(), bins=100);"
   ]
  },
  {
   "cell_type": "code",
   "execution_count": 9,
   "metadata": {},
   "outputs": [
    {
     "name": "stdout",
     "output_type": "stream",
     "text": [
      "Intel MKL WARNING: Support of Intel(R) Streaming SIMD Extensions 4.2 (Intel(R) SSE4.2) enabled only processors has been deprecated. Intel oneAPI Math Kernel Library 2025.0 will require Intel(R) Advanced Vector Extensions (Intel(R) AVX) instructions.\n",
      "Intel MKL WARNING: Support of Intel(R) Streaming SIMD Extensions 4.2 (Intel(R) SSE4.2) enabled only processors has been deprecated. Intel oneAPI Math Kernel Library 2025.0 will require Intel(R) Advanced Vector Extensions (Intel(R) AVX) instructions.\n",
      "Intel MKL WARNING: Support of Intel(R) Streaming SIMD Extensions 4.2 (Intel(R) SSE4.2) enabled only processors has been deprecated. Intel oneAPI Math Kernel Library 2025.0 will require Intel(R) Advanced Vector Extensions (Intel(R) AVX) instructions.\n",
      "Intel MKL WARNING: Support of Intel(R) Streaming SIMD Extensions 4.2 (Intel(R) SSE4.2) enabled only processors has been deprecated. Intel oneAPI Math Kernel Library 2025.0 will require Intel(R) Advanced Vector Extensions (Intel(R) AVX) instructions.\n"
     ]
    }
   ],
   "source": [
    "with torch.no_grad():\n",
    "    for batch_idx, (inputs, targets) in enumerate(train_loader):\n",
    "        inputs, targets = inputs.to(device), targets.to(device)\n",
    "        outputs = model_44000(inputs)\n",
    "        break"
   ]
  },
  {
   "cell_type": "code",
   "execution_count": null,
   "metadata": {},
   "outputs": [],
   "source": []
  }
 ],
 "metadata": {
  "kernelspec": {
   "display_name": "py38",
   "language": "python",
   "name": "python3"
  },
  "language_info": {
   "codemirror_mode": {
    "name": "ipython",
    "version": 3
   },
   "file_extension": ".py",
   "mimetype": "text/x-python",
   "name": "python",
   "nbconvert_exporter": "python",
   "pygments_lexer": "ipython3",
   "version": "3.8.17"
  },
  "orig_nbformat": 4
 },
 "nbformat": 4,
 "nbformat_minor": 2
}
